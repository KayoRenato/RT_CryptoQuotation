{
 "cells": [
  {
   "cell_type": "markdown",
   "metadata": {},
   "source": [
    "## <font color='blue'>Prevendo a Cotação de Criptomoedas em Tempo Real com PySpark e Machine Learning</font>"
   ]
  },
  {
   "cell_type": "code",
   "execution_count": 123,
   "metadata": {},
   "outputs": [
    {
     "name": "stdout",
     "output_type": "stream",
     "text": [
      "Versão da Linguagem Python Usada Neste Jupyter Notebook: 3.10.4\n"
     ]
    }
   ],
   "source": [
    "# Versão da Linguagem Python\n",
    "from platform import python_version\n",
    "print('Versão da Linguagem Python Usada Neste Jupyter Notebook:', python_version())"
   ]
  },
  {
   "cell_type": "code",
   "execution_count": 124,
   "metadata": {},
   "outputs": [],
   "source": [
    "# Importa o findspark e inicializa\n",
    "import findspark\n",
    "findspark.init()"
   ]
  },
  {
   "cell_type": "code",
   "execution_count": 125,
   "metadata": {
    "id": "CPDsD_yhZrO1"
   },
   "outputs": [],
   "source": [
    "# Imports\n",
    "import pyspark\n",
    "import pandas as pd\n",
    "import numpy as np\n",
    "import seaborn as sns\n",
    "from matplotlib import pyplot as plt\n",
    "from pyspark import SparkConf, SparkContext\n",
    "from pyspark.sql import SparkSession, SQLContext\n",
    "from pyspark.sql.types import *\n",
    "from pyspark.sql.functions import *\n",
    "from pyspark.ml.linalg import Vectors\n",
    "from pyspark.ml.feature import StringIndexer\n",
    "from pyspark.ml.regression import LinearRegression\n",
    "from pyspark.mllib.evaluation import RegressionMetrics\n",
    "from pyspark.ml.linalg import Vectors\n",
    "from pyspark.ml.feature import StringIndexer\n",
    "from pyspark.ml.stat import Correlation\n",
    "from pyspark.ml.feature import MinMaxScaler\n",
    "from pyspark.ml.feature import VectorAssembler\n",
    "from pyspark.ml import Pipeline\n",
    "from pyspark.ml.tuning import ParamGridBuilder, CrossValidator, CrossValidatorModel\n",
    "from pyspark.ml.feature import VectorAssembler, StandardScaler\n",
    "from pyspark.ml.evaluation import RegressionEvaluator"
   ]
  },
  {
   "cell_type": "code",
   "execution_count": 126,
   "metadata": {},
   "outputs": [],
   "source": [
    "# Formatação das saídas\n",
    "pd.set_option('display.max_columns', 200)\n",
    "pd.set_option('display.max_colwidth', 400)\n",
    "from matplotlib.axes._axes import _log as matplotlib_axes_logger\n",
    "matplotlib_axes_logger.setLevel('ERROR')"
   ]
  },
  {
   "cell_type": "code",
   "execution_count": 127,
   "metadata": {},
   "outputs": [
    {
     "name": "stdout",
     "output_type": "stream",
     "text": [
      "Author: Kayo Renato\n",
      "\n",
      "numpy     : 1.23.1\n",
      "seaborn   : 0.11.2\n",
      "sys       : 3.10.4 (main, Mar 31 2022, 03:37:37) [Clang 12.0.0 ]\n",
      "pyspark   : 3.3.0\n",
      "findspark : 2.0.1\n",
      "matplotlib: 3.5.1\n",
      "pandas    : 1.4.3\n",
      "\n"
     ]
    }
   ],
   "source": [
    "# Versões dos pacotes usados neste jupyter notebook\n",
    "%reload_ext watermark\n",
    "%watermark -a \"Kayo Renato\" --iversions"
   ]
  },
  {
   "cell_type": "markdown",
   "metadata": {},
   "source": [
    "## Preparando o Ambiente Spark"
   ]
  },
  {
   "cell_type": "code",
   "execution_count": 128,
   "metadata": {
    "id": "eeFpjeqJZ6Nf"
   },
   "outputs": [],
   "source": [
    "# Definindo semente aleatória (seed) para reprodutibilidade do notebook\n",
    "rnd_seed = 23\n",
    "np.random.seed = rnd_seed\n",
    "np.random.set_state = rnd_seed"
   ]
  },
  {
   "cell_type": "code",
   "execution_count": 129,
   "metadata": {
    "id": "BQTuvaMhKkrK"
   },
   "outputs": [],
   "source": [
    "# Criando o Spark Context\n",
    "sc = SparkContext(appName = \"RT_CryptoQuotation\")"
   ]
  },
  {
   "cell_type": "code",
   "execution_count": 130,
   "metadata": {},
   "outputs": [],
   "source": [
    "# Criando a sessão Spark\n",
    "spark_session = SparkSession.Builder().getOrCreate()"
   ]
  },
  {
   "cell_type": "code",
   "execution_count": 131,
   "metadata": {
    "colab": {
     "base_uri": "https://localhost:8080/",
     "height": 219
    },
    "id": "Ec8oNb8qK6Pm",
    "outputId": "1653edd4-1ee3-41fa-d53c-6fe717b0aac5"
   },
   "outputs": [
    {
     "data": {
      "text/html": [
       "\n",
       "            <div>\n",
       "                <p><b>SparkSession - in-memory</b></p>\n",
       "                \n",
       "        <div>\n",
       "            <p><b>SparkContext</b></p>\n",
       "\n",
       "            <p><a href=\"http://kayos-mbp-2021:4040\">Spark UI</a></p>\n",
       "\n",
       "            <dl>\n",
       "              <dt>Version</dt>\n",
       "                <dd><code>v3.3.0</code></dd>\n",
       "              <dt>Master</dt>\n",
       "                <dd><code>local[*]</code></dd>\n",
       "              <dt>AppName</dt>\n",
       "                <dd><code>RT_CryptoQuotation</code></dd>\n",
       "            </dl>\n",
       "        </div>\n",
       "        \n",
       "            </div>\n",
       "        "
      ],
      "text/plain": [
       "<pyspark.sql.session.SparkSession at 0x2b0db3cd0>"
      ]
     },
     "execution_count": 131,
     "metadata": {},
     "output_type": "execute_result"
    }
   ],
   "source": [
    "# Visualiza o objeto spark_session\n",
    "spark_session"
   ]
  },
  {
   "cell_type": "markdown",
   "metadata": {},
   "source": [
    "## Carregando os Dados"
   ]
  },
  {
   "cell_type": "code",
   "execution_count": 132,
   "metadata": {
    "id": "MrRYMdxGM2SJ"
   },
   "outputs": [
    {
     "name": "stderr",
     "output_type": "stream",
     "text": [
      "                                                                                \r"
     ]
    }
   ],
   "source": [
    "# Carrega os dados a partir da sessão Spark\n",
    "df_spark = spark_session.read.csv('dataset.csv', header = 'true', inferSchema = 'true')"
   ]
  },
  {
   "cell_type": "code",
   "execution_count": 133,
   "metadata": {},
   "outputs": [
    {
     "data": {
      "text/plain": [
       "pyspark.sql.dataframe.DataFrame"
      ]
     },
     "execution_count": 133,
     "metadata": {},
     "output_type": "execute_result"
    }
   ],
   "source": [
    "# Tipo do objeto\n",
    "type(df_spark)"
   ]
  },
  {
   "cell_type": "code",
   "execution_count": 134,
   "metadata": {
    "colab": {
     "base_uri": "https://localhost:8080/"
    },
    "id": "9COe3UZhO0D5",
    "outputId": "dfd48aee-686c-4ec5-8892-214e16a64c72"
   },
   "outputs": [
    {
     "name": "stdout",
     "output_type": "stream",
     "text": [
      "+----------+----+----+----+-----+------------+-----------------+--------------+\n",
      "| Timestamp|Open|High| Low|Close|Volume_(BTC)|Volume_(Currency)|Weighted_Price|\n",
      "+----------+----+----+----+-----+------------+-----------------+--------------+\n",
      "|1325317920|4.39|4.39|4.39| 4.39|  0.45558087|     2.0000000193|          4.39|\n",
      "|1325319300| NaN| NaN| NaN|  NaN|         NaN|              NaN|           NaN|\n",
      "|1325319360| NaN| NaN| NaN|  NaN|         NaN|              NaN|           NaN|\n",
      "|1325319420| NaN| NaN| NaN|  NaN|         NaN|              NaN|           NaN|\n",
      "|1325319480| NaN| NaN| NaN|  NaN|         NaN|              NaN|           NaN|\n",
      "|1325319540| NaN| NaN| NaN|  NaN|         NaN|              NaN|           NaN|\n",
      "|1325319600| NaN| NaN| NaN|  NaN|         NaN|              NaN|           NaN|\n",
      "|1325319660| NaN| NaN| NaN|  NaN|         NaN|              NaN|           NaN|\n",
      "|1325345040| NaN| NaN| NaN|  NaN|         NaN|              NaN|           NaN|\n",
      "|1325345100| NaN| NaN| NaN|  NaN|         NaN|              NaN|           NaN|\n",
      "|1325345160| NaN| NaN| NaN|  NaN|         NaN|              NaN|           NaN|\n",
      "|1325345220| NaN| NaN| NaN|  NaN|         NaN|              NaN|           NaN|\n",
      "|1325345280| NaN| NaN| NaN|  NaN|         NaN|              NaN|           NaN|\n",
      "|1325345340| NaN| NaN| NaN|  NaN|         NaN|              NaN|           NaN|\n",
      "|1325345400| NaN| NaN| NaN|  NaN|         NaN|              NaN|           NaN|\n",
      "|1325345460| NaN| NaN| NaN|  NaN|         NaN|              NaN|           NaN|\n",
      "|1325345520| NaN| NaN| NaN|  NaN|         NaN|              NaN|           NaN|\n",
      "|1325345580| NaN| NaN| NaN|  NaN|         NaN|              NaN|           NaN|\n",
      "|1325345640| NaN| NaN| NaN|  NaN|         NaN|              NaN|           NaN|\n",
      "|1325345700| NaN| NaN| NaN|  NaN|         NaN|              NaN|           NaN|\n",
      "+----------+----+----+----+-----+------------+-----------------+--------------+\n",
      "only showing top 20 rows\n",
      "\n"
     ]
    }
   ],
   "source": [
    "# Visualiza os dados\n",
    "df_spark.show()"
   ]
  },
  {
   "cell_type": "code",
   "execution_count": 135,
   "metadata": {
    "colab": {
     "base_uri": "https://localhost:8080/"
    },
    "id": "lLR1WMTfO42i",
    "outputId": "e98a0c8d-550b-46af-eb84-9670cec7fd14"
   },
   "outputs": [
    {
     "name": "stdout",
     "output_type": "stream",
     "text": [
      "root\n",
      " |-- Timestamp: integer (nullable = true)\n",
      " |-- Open: double (nullable = true)\n",
      " |-- High: double (nullable = true)\n",
      " |-- Low: double (nullable = true)\n",
      " |-- Close: double (nullable = true)\n",
      " |-- Volume_(BTC): double (nullable = true)\n",
      " |-- Volume_(Currency): double (nullable = true)\n",
      " |-- Weighted_Price: double (nullable = true)\n",
      "\n"
     ]
    }
   ],
   "source": [
    "# Visualiza os metadados (schema)\n",
    "df_spark.printSchema()"
   ]
  },
  {
   "cell_type": "code",
   "execution_count": 136,
   "metadata": {
    "colab": {
     "base_uri": "https://localhost:8080/"
    },
    "id": "sBjjtJ9kO-fO",
    "outputId": "cff87ea9-d91d-43ea-f30b-3b97990e55d2"
   },
   "outputs": [
    {
     "data": {
      "text/plain": [
       "4856600"
      ]
     },
     "execution_count": 136,
     "metadata": {},
     "output_type": "execute_result"
    }
   ],
   "source": [
    "# Verifica o número de linhas\n",
    "df_spark.count()"
   ]
  },
  {
   "cell_type": "markdown",
   "metadata": {},
   "source": [
    "## Data Wrangling com SparkSQL"
   ]
  },
  {
   "cell_type": "code",
   "execution_count": 137,
   "metadata": {},
   "outputs": [],
   "source": [
    "# Cria uma tabela temporária a partir do dataframe\n",
    "# As tabelas temporárias são úteis quando você deseja que o conjunto de resultados fique visível \n",
    "# para todas as outras sessões Spark\n",
    "df_spark.createOrReplaceTempView('df_bitcoin') "
   ]
  },
  {
   "cell_type": "code",
   "execution_count": 138,
   "metadata": {},
   "outputs": [],
   "source": [
    "# Executa uma consulta SQL\n",
    "df_bitcoin = spark_session.sql(\"select *, from_unixtime(Timestamp) as `dateTime` from df_bitcoin\")"
   ]
  },
  {
   "cell_type": "code",
   "execution_count": 139,
   "metadata": {},
   "outputs": [
    {
     "data": {
      "text/plain": [
       "pyspark.sql.dataframe.DataFrame"
      ]
     },
     "execution_count": 139,
     "metadata": {},
     "output_type": "execute_result"
    }
   ],
   "source": [
    "type(df_bitcoin)"
   ]
  },
  {
   "cell_type": "code",
   "execution_count": 140,
   "metadata": {},
   "outputs": [
    {
     "name": "stdout",
     "output_type": "stream",
     "text": [
      "+----------+----+----+----+-----+------------+-----------------+--------------+-------------------+\n",
      "| Timestamp|Open|High| Low|Close|Volume_(BTC)|Volume_(Currency)|Weighted_Price|           dateTime|\n",
      "+----------+----+----+----+-----+------------+-----------------+--------------+-------------------+\n",
      "|1325317920|4.39|4.39|4.39| 4.39|  0.45558087|     2.0000000193|          4.39|2011-12-31 04:52:00|\n",
      "|1325319300| NaN| NaN| NaN|  NaN|         NaN|              NaN|           NaN|2011-12-31 05:15:00|\n",
      "|1325319360| NaN| NaN| NaN|  NaN|         NaN|              NaN|           NaN|2011-12-31 05:16:00|\n",
      "|1325319420| NaN| NaN| NaN|  NaN|         NaN|              NaN|           NaN|2011-12-31 05:17:00|\n",
      "|1325319480| NaN| NaN| NaN|  NaN|         NaN|              NaN|           NaN|2011-12-31 05:18:00|\n",
      "|1325319540| NaN| NaN| NaN|  NaN|         NaN|              NaN|           NaN|2011-12-31 05:19:00|\n",
      "|1325319600| NaN| NaN| NaN|  NaN|         NaN|              NaN|           NaN|2011-12-31 05:20:00|\n",
      "|1325319660| NaN| NaN| NaN|  NaN|         NaN|              NaN|           NaN|2011-12-31 05:21:00|\n",
      "|1325345040| NaN| NaN| NaN|  NaN|         NaN|              NaN|           NaN|2011-12-31 12:24:00|\n",
      "|1325345100| NaN| NaN| NaN|  NaN|         NaN|              NaN|           NaN|2011-12-31 12:25:00|\n",
      "|1325345160| NaN| NaN| NaN|  NaN|         NaN|              NaN|           NaN|2011-12-31 12:26:00|\n",
      "|1325345220| NaN| NaN| NaN|  NaN|         NaN|              NaN|           NaN|2011-12-31 12:27:00|\n",
      "|1325345280| NaN| NaN| NaN|  NaN|         NaN|              NaN|           NaN|2011-12-31 12:28:00|\n",
      "|1325345340| NaN| NaN| NaN|  NaN|         NaN|              NaN|           NaN|2011-12-31 12:29:00|\n",
      "|1325345400| NaN| NaN| NaN|  NaN|         NaN|              NaN|           NaN|2011-12-31 12:30:00|\n",
      "|1325345460| NaN| NaN| NaN|  NaN|         NaN|              NaN|           NaN|2011-12-31 12:31:00|\n",
      "|1325345520| NaN| NaN| NaN|  NaN|         NaN|              NaN|           NaN|2011-12-31 12:32:00|\n",
      "|1325345580| NaN| NaN| NaN|  NaN|         NaN|              NaN|           NaN|2011-12-31 12:33:00|\n",
      "|1325345640| NaN| NaN| NaN|  NaN|         NaN|              NaN|           NaN|2011-12-31 12:34:00|\n",
      "|1325345700| NaN| NaN| NaN|  NaN|         NaN|              NaN|           NaN|2011-12-31 12:35:00|\n",
      "+----------+----+----+----+-----+------------+-----------------+--------------+-------------------+\n",
      "only showing top 20 rows\n",
      "\n"
     ]
    }
   ],
   "source": [
    "# Visualiza os dados\n",
    "df_bitcoin.show()"
   ]
  },
  {
   "cell_type": "code",
   "execution_count": 141,
   "metadata": {},
   "outputs": [],
   "source": [
    "# Remove valores NA (não faz sentido qualquer tratamento aqui, pois todas as colunas de cotações estão como NA)\n",
    "df_bitcoin = df_bitcoin.dropna('any')"
   ]
  },
  {
   "cell_type": "code",
   "execution_count": 142,
   "metadata": {
    "colab": {
     "base_uri": "https://localhost:8080/"
    },
    "id": "c7KBfhd_PwhO",
    "outputId": "33543c38-656e-4822-da97-9ba900cc69a0"
   },
   "outputs": [
    {
     "name": "stdout",
     "output_type": "stream",
     "text": [
      "+----------+----+----+----+-----+------------+-----------------+--------------+-------------------+\n",
      "| Timestamp|Open|High| Low|Close|Volume_(BTC)|Volume_(Currency)|Weighted_Price|           dateTime|\n",
      "+----------+----+----+----+-----+------------+-----------------+--------------+-------------------+\n",
      "|1325317920|4.39|4.39|4.39| 4.39|  0.45558087|     2.0000000193|          4.39|2011-12-31 04:52:00|\n",
      "|1325346600|4.39|4.39|4.39| 4.39|        48.0|           210.72|          4.39|2011-12-31 12:50:00|\n",
      "|1325350740| 4.5|4.57| 4.5| 4.57| 37.86229723|     171.38033753|  4.5264114983|2011-12-31 13:59:00|\n",
      "|1325350800|4.58|4.58|4.58| 4.58|         9.0|            41.22|          4.58|2011-12-31 14:00:00|\n",
      "|1325391360|4.58|4.58|4.58| 4.58|       1.502|          6.87916|          4.58|2012-01-01 01:16:00|\n",
      "|1325431680|4.84|4.84|4.84| 4.84|        10.0|             48.4|          4.84|2012-01-01 12:28:00|\n",
      "|1325457900| 5.0| 5.0| 5.0|  5.0|        10.1|             50.5|           5.0|2012-01-01 19:45:00|\n",
      "|1325534640| 5.0| 5.0| 5.0|  5.0|      19.048|            95.24|           5.0|2012-01-02 17:04:00|\n",
      "|1325591100|5.32|5.32|5.32| 5.32|  2.41917293|     12.869999988|          5.32|2012-01-03 08:45:00|\n",
      "|1325600520|5.14|5.14|5.14| 5.14|        0.68|           3.4952|          5.14|2012-01-03 11:22:00|\n",
      "|1325602440|5.26|5.26|5.26| 5.26| 29.31939163|     154.21999997|          5.26|2012-01-03 11:54:00|\n",
      "|1325604720|5.29|5.29|5.29| 5.29| 29.30245747|     155.01000002|          5.29|2012-01-03 12:32:00|\n",
      "|1325610600|5.29|5.29|5.29| 5.29| 11.28544423|     59.699999977|          5.29|2012-01-03 14:10:00|\n",
      "|1325610840|5.14|5.14|5.14| 5.14|        0.02|           0.1028|          5.14|2012-01-03 14:14:00|\n",
      "|1325611560|5.29|5.29|5.29| 5.29|        11.0|            58.19|          5.29|2012-01-03 14:26:00|\n",
      "|1325611620|5.29|5.29|5.29| 5.29|  4.01081466|     21.217209551|          5.29|2012-01-03 14:27:00|\n",
      "|1325650620|4.93|4.93|4.93| 4.93|        2.32|          11.4376|          4.93|2012-01-04 01:17:00|\n",
      "|1325653500|4.93|4.93|4.93| 4.93|        9.68|          47.7224|          4.93|2012-01-04 02:05:00|\n",
      "|1325680860|5.19|5.19|5.19| 5.19|   2.6416185|     13.710000015|          5.19|2012-01-04 09:41:00|\n",
      "|1325681820|5.19|5.19|5.19| 5.19|  8.72447013|     45.279999975|          5.19|2012-01-04 09:57:00|\n",
      "+----------+----+----+----+-----+------------+-----------------+--------------+-------------------+\n",
      "only showing top 20 rows\n",
      "\n"
     ]
    }
   ],
   "source": [
    "# Visualiza os dados\n",
    "df_bitcoin.show()"
   ]
  },
  {
   "cell_type": "code",
   "execution_count": 143,
   "metadata": {
    "colab": {
     "base_uri": "https://localhost:8080/"
    },
    "id": "OVDc9h7hQQF0",
    "outputId": "ebb4fde5-9789-461c-8c98-bb5613fd979f"
   },
   "outputs": [
    {
     "name": "stderr",
     "output_type": "stream",
     "text": [
      "                                                                                \r"
     ]
    },
    {
     "data": {
      "text/plain": [
       "3613769"
      ]
     },
     "execution_count": 143,
     "metadata": {},
     "output_type": "execute_result"
    }
   ],
   "source": [
    "# Número de registros\n",
    "df_bitcoin.count()"
   ]
  },
  {
   "cell_type": "code",
   "execution_count": 144,
   "metadata": {
    "id": "hOc0tS4IRAl9"
   },
   "outputs": [],
   "source": [
    "# Vamos renomear algumas colunas para facilitar a manipulação dos dados\n",
    "df_bitcoin = df_bitcoin.withColumnRenamed(\"Volume_(BTC)\", \"VolBTC\").withColumnRenamed(\"Volume_(Currency)\", \"VolCurrency\")"
   ]
  },
  {
   "cell_type": "code",
   "execution_count": 145,
   "metadata": {
    "colab": {
     "base_uri": "https://localhost:8080/"
    },
    "id": "gASzkA4nRNl3",
    "outputId": "4dde2d5a-4ef4-48bb-c21d-0a03fd45a00a"
   },
   "outputs": [
    {
     "name": "stdout",
     "output_type": "stream",
     "text": [
      "+----------+----+----+----+-----+-----------+------------+--------------+-------------------+\n",
      "| Timestamp|Open|High| Low|Close|     VolBTC| VolCurrency|Weighted_Price|           dateTime|\n",
      "+----------+----+----+----+-----+-----------+------------+--------------+-------------------+\n",
      "|1325317920|4.39|4.39|4.39| 4.39| 0.45558087|2.0000000193|          4.39|2011-12-31 04:52:00|\n",
      "|1325346600|4.39|4.39|4.39| 4.39|       48.0|      210.72|          4.39|2011-12-31 12:50:00|\n",
      "|1325350740| 4.5|4.57| 4.5| 4.57|37.86229723|171.38033753|  4.5264114983|2011-12-31 13:59:00|\n",
      "|1325350800|4.58|4.58|4.58| 4.58|        9.0|       41.22|          4.58|2011-12-31 14:00:00|\n",
      "|1325391360|4.58|4.58|4.58| 4.58|      1.502|     6.87916|          4.58|2012-01-01 01:16:00|\n",
      "|1325431680|4.84|4.84|4.84| 4.84|       10.0|        48.4|          4.84|2012-01-01 12:28:00|\n",
      "|1325457900| 5.0| 5.0| 5.0|  5.0|       10.1|        50.5|           5.0|2012-01-01 19:45:00|\n",
      "|1325534640| 5.0| 5.0| 5.0|  5.0|     19.048|       95.24|           5.0|2012-01-02 17:04:00|\n",
      "|1325591100|5.32|5.32|5.32| 5.32| 2.41917293|12.869999988|          5.32|2012-01-03 08:45:00|\n",
      "|1325600520|5.14|5.14|5.14| 5.14|       0.68|      3.4952|          5.14|2012-01-03 11:22:00|\n",
      "|1325602440|5.26|5.26|5.26| 5.26|29.31939163|154.21999997|          5.26|2012-01-03 11:54:00|\n",
      "|1325604720|5.29|5.29|5.29| 5.29|29.30245747|155.01000002|          5.29|2012-01-03 12:32:00|\n",
      "|1325610600|5.29|5.29|5.29| 5.29|11.28544423|59.699999977|          5.29|2012-01-03 14:10:00|\n",
      "|1325610840|5.14|5.14|5.14| 5.14|       0.02|      0.1028|          5.14|2012-01-03 14:14:00|\n",
      "|1325611560|5.29|5.29|5.29| 5.29|       11.0|       58.19|          5.29|2012-01-03 14:26:00|\n",
      "|1325611620|5.29|5.29|5.29| 5.29| 4.01081466|21.217209551|          5.29|2012-01-03 14:27:00|\n",
      "|1325650620|4.93|4.93|4.93| 4.93|       2.32|     11.4376|          4.93|2012-01-04 01:17:00|\n",
      "|1325653500|4.93|4.93|4.93| 4.93|       9.68|     47.7224|          4.93|2012-01-04 02:05:00|\n",
      "|1325680860|5.19|5.19|5.19| 5.19|  2.6416185|13.710000015|          5.19|2012-01-04 09:41:00|\n",
      "|1325681820|5.19|5.19|5.19| 5.19| 8.72447013|45.279999975|          5.19|2012-01-04 09:57:00|\n",
      "+----------+----+----+----+-----+-----------+------------+--------------+-------------------+\n",
      "only showing top 20 rows\n",
      "\n"
     ]
    }
   ],
   "source": [
    "# Visualiza\n",
    "df_bitcoin.show()"
   ]
  },
  {
   "cell_type": "markdown",
   "metadata": {},
   "source": [
    "> A coluna dateTime fornece os detalhes da data da cotação. Vamos separar os elementos da data em diferentes colunas."
   ]
  },
  {
   "cell_type": "code",
   "execution_count": 146,
   "metadata": {},
   "outputs": [],
   "source": [
    "# Vamos dividir o dataframe extraindo data\n",
    "df_data = df_bitcoin.withColumn(\"date\", split(col(\"dateTime\"),\" \").getItem(0))"
   ]
  },
  {
   "cell_type": "code",
   "execution_count": 147,
   "metadata": {},
   "outputs": [],
   "source": [
    "# Vamos dividir o dataframe extraindo tempo\n",
    "df_data = df_data.withColumn(\"time\", split(col(\"dateTime\"),\" \").getItem(1))"
   ]
  },
  {
   "cell_type": "code",
   "execution_count": 148,
   "metadata": {},
   "outputs": [
    {
     "name": "stdout",
     "output_type": "stream",
     "text": [
      "+----------+----+----+----+-----+-----------+------------+--------------+-------------------+----------+--------+\n",
      "| Timestamp|Open|High| Low|Close|     VolBTC| VolCurrency|Weighted_Price|           dateTime|      date|    time|\n",
      "+----------+----+----+----+-----+-----------+------------+--------------+-------------------+----------+--------+\n",
      "|1325317920|4.39|4.39|4.39| 4.39| 0.45558087|2.0000000193|          4.39|2011-12-31 04:52:00|2011-12-31|04:52:00|\n",
      "|1325346600|4.39|4.39|4.39| 4.39|       48.0|      210.72|          4.39|2011-12-31 12:50:00|2011-12-31|12:50:00|\n",
      "|1325350740| 4.5|4.57| 4.5| 4.57|37.86229723|171.38033753|  4.5264114983|2011-12-31 13:59:00|2011-12-31|13:59:00|\n",
      "|1325350800|4.58|4.58|4.58| 4.58|        9.0|       41.22|          4.58|2011-12-31 14:00:00|2011-12-31|14:00:00|\n",
      "|1325391360|4.58|4.58|4.58| 4.58|      1.502|     6.87916|          4.58|2012-01-01 01:16:00|2012-01-01|01:16:00|\n",
      "|1325431680|4.84|4.84|4.84| 4.84|       10.0|        48.4|          4.84|2012-01-01 12:28:00|2012-01-01|12:28:00|\n",
      "|1325457900| 5.0| 5.0| 5.0|  5.0|       10.1|        50.5|           5.0|2012-01-01 19:45:00|2012-01-01|19:45:00|\n",
      "|1325534640| 5.0| 5.0| 5.0|  5.0|     19.048|       95.24|           5.0|2012-01-02 17:04:00|2012-01-02|17:04:00|\n",
      "|1325591100|5.32|5.32|5.32| 5.32| 2.41917293|12.869999988|          5.32|2012-01-03 08:45:00|2012-01-03|08:45:00|\n",
      "|1325600520|5.14|5.14|5.14| 5.14|       0.68|      3.4952|          5.14|2012-01-03 11:22:00|2012-01-03|11:22:00|\n",
      "|1325602440|5.26|5.26|5.26| 5.26|29.31939163|154.21999997|          5.26|2012-01-03 11:54:00|2012-01-03|11:54:00|\n",
      "|1325604720|5.29|5.29|5.29| 5.29|29.30245747|155.01000002|          5.29|2012-01-03 12:32:00|2012-01-03|12:32:00|\n",
      "|1325610600|5.29|5.29|5.29| 5.29|11.28544423|59.699999977|          5.29|2012-01-03 14:10:00|2012-01-03|14:10:00|\n",
      "|1325610840|5.14|5.14|5.14| 5.14|       0.02|      0.1028|          5.14|2012-01-03 14:14:00|2012-01-03|14:14:00|\n",
      "|1325611560|5.29|5.29|5.29| 5.29|       11.0|       58.19|          5.29|2012-01-03 14:26:00|2012-01-03|14:26:00|\n",
      "|1325611620|5.29|5.29|5.29| 5.29| 4.01081466|21.217209551|          5.29|2012-01-03 14:27:00|2012-01-03|14:27:00|\n",
      "|1325650620|4.93|4.93|4.93| 4.93|       2.32|     11.4376|          4.93|2012-01-04 01:17:00|2012-01-04|01:17:00|\n",
      "|1325653500|4.93|4.93|4.93| 4.93|       9.68|     47.7224|          4.93|2012-01-04 02:05:00|2012-01-04|02:05:00|\n",
      "|1325680860|5.19|5.19|5.19| 5.19|  2.6416185|13.710000015|          5.19|2012-01-04 09:41:00|2012-01-04|09:41:00|\n",
      "|1325681820|5.19|5.19|5.19| 5.19| 8.72447013|45.279999975|          5.19|2012-01-04 09:57:00|2012-01-04|09:57:00|\n",
      "+----------+----+----+----+-----+-----------+------------+--------------+-------------------+----------+--------+\n",
      "only showing top 20 rows\n",
      "\n"
     ]
    }
   ],
   "source": [
    "# Visualiza os dados\n",
    "df_data.show()"
   ]
  },
  {
   "cell_type": "code",
   "execution_count": 149,
   "metadata": {},
   "outputs": [
    {
     "data": {
      "text/plain": [
       "pyspark.sql.dataframe.DataFrame"
      ]
     },
     "execution_count": 149,
     "metadata": {},
     "output_type": "execute_result"
    }
   ],
   "source": [
    "type(df_data)"
   ]
  },
  {
   "cell_type": "code",
   "execution_count": 150,
   "metadata": {},
   "outputs": [
    {
     "name": "stdout",
     "output_type": "stream",
     "text": [
      "root\n",
      " |-- Timestamp: integer (nullable = true)\n",
      " |-- Open: double (nullable = true)\n",
      " |-- High: double (nullable = true)\n",
      " |-- Low: double (nullable = true)\n",
      " |-- Close: double (nullable = true)\n",
      " |-- VolBTC: double (nullable = true)\n",
      " |-- VolCurrency: double (nullable = true)\n",
      " |-- Weighted_Price: double (nullable = true)\n",
      " |-- dateTime: string (nullable = true)\n",
      " |-- date: string (nullable = true)\n",
      " |-- time: string (nullable = true)\n",
      "\n"
     ]
    }
   ],
   "source": [
    "# Schema\n",
    "df_data.printSchema()"
   ]
  },
  {
   "cell_type": "code",
   "execution_count": 151,
   "metadata": {
    "id": "G_YvoMKEEN35"
   },
   "outputs": [],
   "source": [
    "# Vamos dividir o dataframe extraindo a hora\n",
    "df_data_hora = df_data.withColumn(\"hour\", split(col(\"time\"),\":\").getItem(0))"
   ]
  },
  {
   "cell_type": "code",
   "execution_count": 152,
   "metadata": {},
   "outputs": [
    {
     "name": "stdout",
     "output_type": "stream",
     "text": [
      "root\n",
      " |-- Timestamp: integer (nullable = true)\n",
      " |-- Open: double (nullable = true)\n",
      " |-- High: double (nullable = true)\n",
      " |-- Low: double (nullable = true)\n",
      " |-- Close: double (nullable = true)\n",
      " |-- VolBTC: double (nullable = true)\n",
      " |-- VolCurrency: double (nullable = true)\n",
      " |-- Weighted_Price: double (nullable = true)\n",
      " |-- dateTime: string (nullable = true)\n",
      " |-- date: string (nullable = true)\n",
      " |-- time: string (nullable = true)\n",
      " |-- hour: string (nullable = true)\n",
      "\n"
     ]
    }
   ],
   "source": [
    "df_data_hora.printSchema()"
   ]
  },
  {
   "cell_type": "code",
   "execution_count": 153,
   "metadata": {},
   "outputs": [
    {
     "name": "stdout",
     "output_type": "stream",
     "text": [
      "+----------+----+----+----+-----+-----------+------------+--------------+-------------------+----------+--------+----+\n",
      "| Timestamp|Open|High| Low|Close|     VolBTC| VolCurrency|Weighted_Price|           dateTime|      date|    time|hour|\n",
      "+----------+----+----+----+-----+-----------+------------+--------------+-------------------+----------+--------+----+\n",
      "|1325317920|4.39|4.39|4.39| 4.39| 0.45558087|2.0000000193|          4.39|2011-12-31 04:52:00|2011-12-31|04:52:00|  04|\n",
      "|1325346600|4.39|4.39|4.39| 4.39|       48.0|      210.72|          4.39|2011-12-31 12:50:00|2011-12-31|12:50:00|  12|\n",
      "|1325350740| 4.5|4.57| 4.5| 4.57|37.86229723|171.38033753|  4.5264114983|2011-12-31 13:59:00|2011-12-31|13:59:00|  13|\n",
      "|1325350800|4.58|4.58|4.58| 4.58|        9.0|       41.22|          4.58|2011-12-31 14:00:00|2011-12-31|14:00:00|  14|\n",
      "|1325391360|4.58|4.58|4.58| 4.58|      1.502|     6.87916|          4.58|2012-01-01 01:16:00|2012-01-01|01:16:00|  01|\n",
      "|1325431680|4.84|4.84|4.84| 4.84|       10.0|        48.4|          4.84|2012-01-01 12:28:00|2012-01-01|12:28:00|  12|\n",
      "|1325457900| 5.0| 5.0| 5.0|  5.0|       10.1|        50.5|           5.0|2012-01-01 19:45:00|2012-01-01|19:45:00|  19|\n",
      "|1325534640| 5.0| 5.0| 5.0|  5.0|     19.048|       95.24|           5.0|2012-01-02 17:04:00|2012-01-02|17:04:00|  17|\n",
      "|1325591100|5.32|5.32|5.32| 5.32| 2.41917293|12.869999988|          5.32|2012-01-03 08:45:00|2012-01-03|08:45:00|  08|\n",
      "|1325600520|5.14|5.14|5.14| 5.14|       0.68|      3.4952|          5.14|2012-01-03 11:22:00|2012-01-03|11:22:00|  11|\n",
      "|1325602440|5.26|5.26|5.26| 5.26|29.31939163|154.21999997|          5.26|2012-01-03 11:54:00|2012-01-03|11:54:00|  11|\n",
      "|1325604720|5.29|5.29|5.29| 5.29|29.30245747|155.01000002|          5.29|2012-01-03 12:32:00|2012-01-03|12:32:00|  12|\n",
      "|1325610600|5.29|5.29|5.29| 5.29|11.28544423|59.699999977|          5.29|2012-01-03 14:10:00|2012-01-03|14:10:00|  14|\n",
      "|1325610840|5.14|5.14|5.14| 5.14|       0.02|      0.1028|          5.14|2012-01-03 14:14:00|2012-01-03|14:14:00|  14|\n",
      "|1325611560|5.29|5.29|5.29| 5.29|       11.0|       58.19|          5.29|2012-01-03 14:26:00|2012-01-03|14:26:00|  14|\n",
      "|1325611620|5.29|5.29|5.29| 5.29| 4.01081466|21.217209551|          5.29|2012-01-03 14:27:00|2012-01-03|14:27:00|  14|\n",
      "|1325650620|4.93|4.93|4.93| 4.93|       2.32|     11.4376|          4.93|2012-01-04 01:17:00|2012-01-04|01:17:00|  01|\n",
      "|1325653500|4.93|4.93|4.93| 4.93|       9.68|     47.7224|          4.93|2012-01-04 02:05:00|2012-01-04|02:05:00|  02|\n",
      "|1325680860|5.19|5.19|5.19| 5.19|  2.6416185|13.710000015|          5.19|2012-01-04 09:41:00|2012-01-04|09:41:00|  09|\n",
      "|1325681820|5.19|5.19|5.19| 5.19| 8.72447013|45.279999975|          5.19|2012-01-04 09:57:00|2012-01-04|09:57:00|  09|\n",
      "+----------+----+----+----+-----+-----------+------------+--------------+-------------------+----------+--------+----+\n",
      "only showing top 20 rows\n",
      "\n"
     ]
    }
   ],
   "source": [
    "df_data_hora.show()"
   ]
  },
  {
   "cell_type": "code",
   "execution_count": 154,
   "metadata": {
    "id": "uh0C5gM-EaCO"
   },
   "outputs": [],
   "source": [
    "# Vamos ajustar o formato da data para extrair o dia da semana\n",
    "df_data_hora = df_data_hora.withColumn(\"date\", df_data_hora[\"date\"].cast(DateType())).withColumn(\"hour\", df_data_hora[\"hour\"].cast(DoubleType())).withColumn(\"dateTime\", df_data_hora[\"dateTime\"].cast(DateType()))\n"
   ]
  },
  {
   "cell_type": "code",
   "execution_count": 155,
   "metadata": {},
   "outputs": [
    {
     "name": "stdout",
     "output_type": "stream",
     "text": [
      "+----------+----+----+----+-----+-----------+------------+--------------+----------+----------+--------+----+\n",
      "| Timestamp|Open|High| Low|Close|     VolBTC| VolCurrency|Weighted_Price|  dateTime|      date|    time|hour|\n",
      "+----------+----+----+----+-----+-----------+------------+--------------+----------+----------+--------+----+\n",
      "|1325317920|4.39|4.39|4.39| 4.39| 0.45558087|2.0000000193|          4.39|2011-12-31|2011-12-31|04:52:00| 4.0|\n",
      "|1325346600|4.39|4.39|4.39| 4.39|       48.0|      210.72|          4.39|2011-12-31|2011-12-31|12:50:00|12.0|\n",
      "|1325350740| 4.5|4.57| 4.5| 4.57|37.86229723|171.38033753|  4.5264114983|2011-12-31|2011-12-31|13:59:00|13.0|\n",
      "|1325350800|4.58|4.58|4.58| 4.58|        9.0|       41.22|          4.58|2011-12-31|2011-12-31|14:00:00|14.0|\n",
      "|1325391360|4.58|4.58|4.58| 4.58|      1.502|     6.87916|          4.58|2012-01-01|2012-01-01|01:16:00| 1.0|\n",
      "|1325431680|4.84|4.84|4.84| 4.84|       10.0|        48.4|          4.84|2012-01-01|2012-01-01|12:28:00|12.0|\n",
      "|1325457900| 5.0| 5.0| 5.0|  5.0|       10.1|        50.5|           5.0|2012-01-01|2012-01-01|19:45:00|19.0|\n",
      "|1325534640| 5.0| 5.0| 5.0|  5.0|     19.048|       95.24|           5.0|2012-01-02|2012-01-02|17:04:00|17.0|\n",
      "|1325591100|5.32|5.32|5.32| 5.32| 2.41917293|12.869999988|          5.32|2012-01-03|2012-01-03|08:45:00| 8.0|\n",
      "|1325600520|5.14|5.14|5.14| 5.14|       0.68|      3.4952|          5.14|2012-01-03|2012-01-03|11:22:00|11.0|\n",
      "|1325602440|5.26|5.26|5.26| 5.26|29.31939163|154.21999997|          5.26|2012-01-03|2012-01-03|11:54:00|11.0|\n",
      "|1325604720|5.29|5.29|5.29| 5.29|29.30245747|155.01000002|          5.29|2012-01-03|2012-01-03|12:32:00|12.0|\n",
      "|1325610600|5.29|5.29|5.29| 5.29|11.28544423|59.699999977|          5.29|2012-01-03|2012-01-03|14:10:00|14.0|\n",
      "|1325610840|5.14|5.14|5.14| 5.14|       0.02|      0.1028|          5.14|2012-01-03|2012-01-03|14:14:00|14.0|\n",
      "|1325611560|5.29|5.29|5.29| 5.29|       11.0|       58.19|          5.29|2012-01-03|2012-01-03|14:26:00|14.0|\n",
      "|1325611620|5.29|5.29|5.29| 5.29| 4.01081466|21.217209551|          5.29|2012-01-03|2012-01-03|14:27:00|14.0|\n",
      "|1325650620|4.93|4.93|4.93| 4.93|       2.32|     11.4376|          4.93|2012-01-04|2012-01-04|01:17:00| 1.0|\n",
      "|1325653500|4.93|4.93|4.93| 4.93|       9.68|     47.7224|          4.93|2012-01-04|2012-01-04|02:05:00| 2.0|\n",
      "|1325680860|5.19|5.19|5.19| 5.19|  2.6416185|13.710000015|          5.19|2012-01-04|2012-01-04|09:41:00| 9.0|\n",
      "|1325681820|5.19|5.19|5.19| 5.19| 8.72447013|45.279999975|          5.19|2012-01-04|2012-01-04|09:57:00| 9.0|\n",
      "+----------+----+----+----+-----+-----------+------------+--------------+----------+----------+--------+----+\n",
      "only showing top 20 rows\n",
      "\n"
     ]
    }
   ],
   "source": [
    "df_data_hora.show()"
   ]
  },
  {
   "cell_type": "code",
   "execution_count": 156,
   "metadata": {},
   "outputs": [],
   "source": [
    "# Vamos extrair o dia da semana\n",
    "df_data_hora = df_data_hora.withColumn('day_of_week', dayofweek(df_data_hora.date))"
   ]
  },
  {
   "cell_type": "code",
   "execution_count": 157,
   "metadata": {},
   "outputs": [
    {
     "name": "stdout",
     "output_type": "stream",
     "text": [
      "root\n",
      " |-- Timestamp: integer (nullable = true)\n",
      " |-- Open: double (nullable = true)\n",
      " |-- High: double (nullable = true)\n",
      " |-- Low: double (nullable = true)\n",
      " |-- Close: double (nullable = true)\n",
      " |-- VolBTC: double (nullable = true)\n",
      " |-- VolCurrency: double (nullable = true)\n",
      " |-- Weighted_Price: double (nullable = true)\n",
      " |-- dateTime: date (nullable = true)\n",
      " |-- date: date (nullable = true)\n",
      " |-- time: string (nullable = true)\n",
      " |-- hour: double (nullable = true)\n",
      " |-- day_of_week: integer (nullable = true)\n",
      "\n"
     ]
    }
   ],
   "source": [
    "df_data_hora.printSchema()"
   ]
  },
  {
   "cell_type": "code",
   "execution_count": 158,
   "metadata": {
    "colab": {
     "base_uri": "https://localhost:8080/"
    },
    "id": "8kmhB2zCEcZN",
    "outputId": "701ae1e3-1176-4e94-d374-fde6d609452e"
   },
   "outputs": [],
   "source": [
    "# Vamos extrair o ano da cotação\n",
    "df_data_hora_ano = df_data_hora.withColumn(\"year\", split(col(\"date\"),\"-\").getItem(0))"
   ]
  },
  {
   "cell_type": "code",
   "execution_count": 159,
   "metadata": {},
   "outputs": [
    {
     "name": "stdout",
     "output_type": "stream",
     "text": [
      "+----------+----+----+----+-----+-----------+------------+--------------+----------+----------+--------+----+-----------+----+\n",
      "| Timestamp|Open|High| Low|Close|     VolBTC| VolCurrency|Weighted_Price|  dateTime|      date|    time|hour|day_of_week|year|\n",
      "+----------+----+----+----+-----+-----------+------------+--------------+----------+----------+--------+----+-----------+----+\n",
      "|1325317920|4.39|4.39|4.39| 4.39| 0.45558087|2.0000000193|          4.39|2011-12-31|2011-12-31|04:52:00| 4.0|          7|2011|\n",
      "|1325346600|4.39|4.39|4.39| 4.39|       48.0|      210.72|          4.39|2011-12-31|2011-12-31|12:50:00|12.0|          7|2011|\n",
      "|1325350740| 4.5|4.57| 4.5| 4.57|37.86229723|171.38033753|  4.5264114983|2011-12-31|2011-12-31|13:59:00|13.0|          7|2011|\n",
      "|1325350800|4.58|4.58|4.58| 4.58|        9.0|       41.22|          4.58|2011-12-31|2011-12-31|14:00:00|14.0|          7|2011|\n",
      "|1325391360|4.58|4.58|4.58| 4.58|      1.502|     6.87916|          4.58|2012-01-01|2012-01-01|01:16:00| 1.0|          1|2012|\n",
      "|1325431680|4.84|4.84|4.84| 4.84|       10.0|        48.4|          4.84|2012-01-01|2012-01-01|12:28:00|12.0|          1|2012|\n",
      "|1325457900| 5.0| 5.0| 5.0|  5.0|       10.1|        50.5|           5.0|2012-01-01|2012-01-01|19:45:00|19.0|          1|2012|\n",
      "|1325534640| 5.0| 5.0| 5.0|  5.0|     19.048|       95.24|           5.0|2012-01-02|2012-01-02|17:04:00|17.0|          2|2012|\n",
      "|1325591100|5.32|5.32|5.32| 5.32| 2.41917293|12.869999988|          5.32|2012-01-03|2012-01-03|08:45:00| 8.0|          3|2012|\n",
      "|1325600520|5.14|5.14|5.14| 5.14|       0.68|      3.4952|          5.14|2012-01-03|2012-01-03|11:22:00|11.0|          3|2012|\n",
      "|1325602440|5.26|5.26|5.26| 5.26|29.31939163|154.21999997|          5.26|2012-01-03|2012-01-03|11:54:00|11.0|          3|2012|\n",
      "|1325604720|5.29|5.29|5.29| 5.29|29.30245747|155.01000002|          5.29|2012-01-03|2012-01-03|12:32:00|12.0|          3|2012|\n",
      "|1325610600|5.29|5.29|5.29| 5.29|11.28544423|59.699999977|          5.29|2012-01-03|2012-01-03|14:10:00|14.0|          3|2012|\n",
      "|1325610840|5.14|5.14|5.14| 5.14|       0.02|      0.1028|          5.14|2012-01-03|2012-01-03|14:14:00|14.0|          3|2012|\n",
      "|1325611560|5.29|5.29|5.29| 5.29|       11.0|       58.19|          5.29|2012-01-03|2012-01-03|14:26:00|14.0|          3|2012|\n",
      "|1325611620|5.29|5.29|5.29| 5.29| 4.01081466|21.217209551|          5.29|2012-01-03|2012-01-03|14:27:00|14.0|          3|2012|\n",
      "|1325650620|4.93|4.93|4.93| 4.93|       2.32|     11.4376|          4.93|2012-01-04|2012-01-04|01:17:00| 1.0|          4|2012|\n",
      "|1325653500|4.93|4.93|4.93| 4.93|       9.68|     47.7224|          4.93|2012-01-04|2012-01-04|02:05:00| 2.0|          4|2012|\n",
      "|1325680860|5.19|5.19|5.19| 5.19|  2.6416185|13.710000015|          5.19|2012-01-04|2012-01-04|09:41:00| 9.0|          4|2012|\n",
      "|1325681820|5.19|5.19|5.19| 5.19| 8.72447013|45.279999975|          5.19|2012-01-04|2012-01-04|09:57:00| 9.0|          4|2012|\n",
      "+----------+----+----+----+-----+-----------+------------+--------------+----------+----------+--------+----+-----------+----+\n",
      "only showing top 20 rows\n",
      "\n"
     ]
    }
   ],
   "source": [
    "df_data_hora_ano.show()"
   ]
  },
  {
   "cell_type": "code",
   "execution_count": 160,
   "metadata": {
    "id": "IfRDjht1EnRU"
   },
   "outputs": [
    {
     "name": "stderr",
     "output_type": "stream",
     "text": [
      "                                                                                \r"
     ]
    }
   ],
   "source": [
    "# Converte o dataframe do Spark para o Pandas. \n",
    "# Por quê? Porque isso vai facilitar a análise exploratória de dados.\n",
    "df_pandas = df_data_hora_ano.toPandas()"
   ]
  },
  {
   "cell_type": "code",
   "execution_count": 161,
   "metadata": {
    "scrolled": true
   },
   "outputs": [
    {
     "data": {
      "text/plain": [
       "pandas.core.frame.DataFrame"
      ]
     },
     "execution_count": 161,
     "metadata": {},
     "output_type": "execute_result"
    }
   ],
   "source": [
    "type(df_pandas)"
   ]
  },
  {
   "cell_type": "code",
   "execution_count": 162,
   "metadata": {},
   "outputs": [
    {
     "data": {
      "text/html": [
       "<div>\n",
       "<style scoped>\n",
       "    .dataframe tbody tr th:only-of-type {\n",
       "        vertical-align: middle;\n",
       "    }\n",
       "\n",
       "    .dataframe tbody tr th {\n",
       "        vertical-align: top;\n",
       "    }\n",
       "\n",
       "    .dataframe thead th {\n",
       "        text-align: right;\n",
       "    }\n",
       "</style>\n",
       "<table border=\"1\" class=\"dataframe\">\n",
       "  <thead>\n",
       "    <tr style=\"text-align: right;\">\n",
       "      <th></th>\n",
       "      <th>Timestamp</th>\n",
       "      <th>Open</th>\n",
       "      <th>High</th>\n",
       "      <th>Low</th>\n",
       "      <th>Close</th>\n",
       "      <th>VolBTC</th>\n",
       "      <th>VolCurrency</th>\n",
       "      <th>Weighted_Price</th>\n",
       "      <th>dateTime</th>\n",
       "      <th>date</th>\n",
       "      <th>time</th>\n",
       "      <th>hour</th>\n",
       "      <th>day_of_week</th>\n",
       "      <th>year</th>\n",
       "    </tr>\n",
       "  </thead>\n",
       "  <tbody>\n",
       "    <tr>\n",
       "      <th>2546369</th>\n",
       "      <td>1552113720</td>\n",
       "      <td>3878.60</td>\n",
       "      <td>3878.60</td>\n",
       "      <td>3876.61</td>\n",
       "      <td>3878.04</td>\n",
       "      <td>1.543563</td>\n",
       "      <td>5984.946276</td>\n",
       "      <td>3877.358708</td>\n",
       "      <td>2019-03-09</td>\n",
       "      <td>2019-03-09</td>\n",
       "      <td>03:42:00</td>\n",
       "      <td>3.0</td>\n",
       "      <td>7</td>\n",
       "      <td>2019</td>\n",
       "    </tr>\n",
       "    <tr>\n",
       "      <th>3090638</th>\n",
       "      <td>1585298460</td>\n",
       "      <td>6710.92</td>\n",
       "      <td>6710.92</td>\n",
       "      <td>6710.00</td>\n",
       "      <td>6710.92</td>\n",
       "      <td>2.246931</td>\n",
       "      <td>15078.782278</td>\n",
       "      <td>6710.834591</td>\n",
       "      <td>2020-03-27</td>\n",
       "      <td>2020-03-27</td>\n",
       "      <td>05:41:00</td>\n",
       "      <td>5.0</td>\n",
       "      <td>6</td>\n",
       "      <td>2020</td>\n",
       "    </tr>\n",
       "    <tr>\n",
       "      <th>611197</th>\n",
       "      <td>1409790720</td>\n",
       "      <td>472.57</td>\n",
       "      <td>472.61</td>\n",
       "      <td>472.54</td>\n",
       "      <td>472.55</td>\n",
       "      <td>6.900000</td>\n",
       "      <td>3260.785820</td>\n",
       "      <td>472.577655</td>\n",
       "      <td>2014-09-03</td>\n",
       "      <td>2014-09-03</td>\n",
       "      <td>21:32:00</td>\n",
       "      <td>21.0</td>\n",
       "      <td>4</td>\n",
       "      <td>2014</td>\n",
       "    </tr>\n",
       "    <tr>\n",
       "      <th>1661185</th>\n",
       "      <td>1496825220</td>\n",
       "      <td>2823.27</td>\n",
       "      <td>2823.27</td>\n",
       "      <td>2820.00</td>\n",
       "      <td>2820.00</td>\n",
       "      <td>4.083184</td>\n",
       "      <td>11515.678683</td>\n",
       "      <td>2820.269681</td>\n",
       "      <td>2017-06-07</td>\n",
       "      <td>2017-06-07</td>\n",
       "      <td>05:47:00</td>\n",
       "      <td>5.0</td>\n",
       "      <td>4</td>\n",
       "      <td>2017</td>\n",
       "    </tr>\n",
       "    <tr>\n",
       "      <th>3540496</th>\n",
       "      <td>1612746180</td>\n",
       "      <td>38733.61</td>\n",
       "      <td>38733.61</td>\n",
       "      <td>38651.00</td>\n",
       "      <td>38692.20</td>\n",
       "      <td>11.211438</td>\n",
       "      <td>433816.322870</td>\n",
       "      <td>38694.085131</td>\n",
       "      <td>2021-02-07</td>\n",
       "      <td>2021-02-07</td>\n",
       "      <td>22:03:00</td>\n",
       "      <td>22.0</td>\n",
       "      <td>1</td>\n",
       "      <td>2021</td>\n",
       "    </tr>\n",
       "    <tr>\n",
       "      <th>3144317</th>\n",
       "      <td>1588627980</td>\n",
       "      <td>8903.42</td>\n",
       "      <td>8907.37</td>\n",
       "      <td>8900.22</td>\n",
       "      <td>8901.21</td>\n",
       "      <td>1.306487</td>\n",
       "      <td>11629.264436</td>\n",
       "      <td>8901.171388</td>\n",
       "      <td>2020-05-04</td>\n",
       "      <td>2020-05-04</td>\n",
       "      <td>18:33:00</td>\n",
       "      <td>18.0</td>\n",
       "      <td>2</td>\n",
       "      <td>2020</td>\n",
       "    </tr>\n",
       "    <tr>\n",
       "      <th>3422843</th>\n",
       "      <td>1605683340</td>\n",
       "      <td>17769.65</td>\n",
       "      <td>17778.58</td>\n",
       "      <td>17766.78</td>\n",
       "      <td>17774.33</td>\n",
       "      <td>1.854018</td>\n",
       "      <td>32950.350410</td>\n",
       "      <td>17772.398188</td>\n",
       "      <td>2020-11-18</td>\n",
       "      <td>2020-11-18</td>\n",
       "      <td>04:09:00</td>\n",
       "      <td>4.0</td>\n",
       "      <td>4</td>\n",
       "      <td>2020</td>\n",
       "    </tr>\n",
       "    <tr>\n",
       "      <th>2583467</th>\n",
       "      <td>1554513840</td>\n",
       "      <td>5015.76</td>\n",
       "      <td>5015.76</td>\n",
       "      <td>5010.19</td>\n",
       "      <td>5012.93</td>\n",
       "      <td>3.862932</td>\n",
       "      <td>19364.729481</td>\n",
       "      <td>5012.962042</td>\n",
       "      <td>2019-04-05</td>\n",
       "      <td>2019-04-05</td>\n",
       "      <td>22:24:00</td>\n",
       "      <td>22.0</td>\n",
       "      <td>6</td>\n",
       "      <td>2019</td>\n",
       "    </tr>\n",
       "    <tr>\n",
       "      <th>3433802</th>\n",
       "      <td>1606340880</td>\n",
       "      <td>18928.99</td>\n",
       "      <td>18936.36</td>\n",
       "      <td>18905.43</td>\n",
       "      <td>18905.43</td>\n",
       "      <td>1.448055</td>\n",
       "      <td>27403.120000</td>\n",
       "      <td>18924.089004</td>\n",
       "      <td>2020-11-25</td>\n",
       "      <td>2020-11-25</td>\n",
       "      <td>18:48:00</td>\n",
       "      <td>18.0</td>\n",
       "      <td>4</td>\n",
       "      <td>2020</td>\n",
       "    </tr>\n",
       "    <tr>\n",
       "      <th>3077187</th>\n",
       "      <td>1584479280</td>\n",
       "      <td>5532.74</td>\n",
       "      <td>5569.90</td>\n",
       "      <td>5532.74</td>\n",
       "      <td>5536.27</td>\n",
       "      <td>66.843202</td>\n",
       "      <td>371219.984100</td>\n",
       "      <td>5553.593695</td>\n",
       "      <td>2020-03-17</td>\n",
       "      <td>2020-03-17</td>\n",
       "      <td>18:08:00</td>\n",
       "      <td>18.0</td>\n",
       "      <td>3</td>\n",
       "      <td>2020</td>\n",
       "    </tr>\n",
       "  </tbody>\n",
       "</table>\n",
       "</div>"
      ],
      "text/plain": [
       "          Timestamp      Open      High       Low     Close     VolBTC  \\\n",
       "2546369  1552113720   3878.60   3878.60   3876.61   3878.04   1.543563   \n",
       "3090638  1585298460   6710.92   6710.92   6710.00   6710.92   2.246931   \n",
       "611197   1409790720    472.57    472.61    472.54    472.55   6.900000   \n",
       "1661185  1496825220   2823.27   2823.27   2820.00   2820.00   4.083184   \n",
       "3540496  1612746180  38733.61  38733.61  38651.00  38692.20  11.211438   \n",
       "3144317  1588627980   8903.42   8907.37   8900.22   8901.21   1.306487   \n",
       "3422843  1605683340  17769.65  17778.58  17766.78  17774.33   1.854018   \n",
       "2583467  1554513840   5015.76   5015.76   5010.19   5012.93   3.862932   \n",
       "3433802  1606340880  18928.99  18936.36  18905.43  18905.43   1.448055   \n",
       "3077187  1584479280   5532.74   5569.90   5532.74   5536.27  66.843202   \n",
       "\n",
       "           VolCurrency  Weighted_Price    dateTime        date      time  \\\n",
       "2546369    5984.946276     3877.358708  2019-03-09  2019-03-09  03:42:00   \n",
       "3090638   15078.782278     6710.834591  2020-03-27  2020-03-27  05:41:00   \n",
       "611197     3260.785820      472.577655  2014-09-03  2014-09-03  21:32:00   \n",
       "1661185   11515.678683     2820.269681  2017-06-07  2017-06-07  05:47:00   \n",
       "3540496  433816.322870    38694.085131  2021-02-07  2021-02-07  22:03:00   \n",
       "3144317   11629.264436     8901.171388  2020-05-04  2020-05-04  18:33:00   \n",
       "3422843   32950.350410    17772.398188  2020-11-18  2020-11-18  04:09:00   \n",
       "2583467   19364.729481     5012.962042  2019-04-05  2019-04-05  22:24:00   \n",
       "3433802   27403.120000    18924.089004  2020-11-25  2020-11-25  18:48:00   \n",
       "3077187  371219.984100     5553.593695  2020-03-17  2020-03-17  18:08:00   \n",
       "\n",
       "         hour  day_of_week  year  \n",
       "2546369   3.0            7  2019  \n",
       "3090638   5.0            6  2020  \n",
       "611197   21.0            4  2014  \n",
       "1661185   5.0            4  2017  \n",
       "3540496  22.0            1  2021  \n",
       "3144317  18.0            2  2020  \n",
       "3422843   4.0            4  2020  \n",
       "2583467  22.0            6  2019  \n",
       "3433802  18.0            4  2020  \n",
       "3077187  18.0            3  2020  "
      ]
     },
     "execution_count": 162,
     "metadata": {},
     "output_type": "execute_result"
    }
   ],
   "source": [
    "df_pandas.sample(10)"
   ]
  },
  {
   "cell_type": "code",
   "execution_count": 163,
   "metadata": {
    "id": "hPFeL6MqEzK1"
   },
   "outputs": [],
   "source": [
    "# Obtendo os valores individuais para usar nos gráficos\n",
    "hour = df_pandas[\"hour\"].values.tolist()\n",
    "weighted_price = df_pandas[\"Weighted_Price\"].values.tolist()\n",
    "volume_BTC = df_pandas[\"VolBTC\"].values.tolist()\n",
    "date_of_week = df_pandas[\"day_of_week\"].values.tolist()\n",
    "year = df_pandas[\"year\"].values.tolist()"
   ]
  },
  {
   "cell_type": "markdown",
   "metadata": {
    "id": "9tkmDU-nFaQ1"
   },
   "source": [
    "## Análise Exploratória"
   ]
  },
  {
   "cell_type": "code",
   "execution_count": 164,
   "metadata": {
    "colab": {
     "base_uri": "https://localhost:8080/",
     "height": 798
    },
    "id": "TiQ9memLFU7o",
    "outputId": "4c3f0f7b-689c-4d0c-8b2e-8a7fd7c2bbc8"
   },
   "outputs": [
    {
     "data": {
      "text/plain": [
       "<AxesSubplot:>"
      ]
     },
     "execution_count": 164,
     "metadata": {},
     "output_type": "execute_result"
    },
    {
     "data": {
      "image/png": "[encoded data removed]",
      "text/plain": [
       "<Figure size 720x720 with 2 Axes>"
      ]
     },
     "metadata": {},
     "output_type": "display_data"
    }
   ],
   "source": [
    "# Heatmap para visualizar a correlação\n",
    "corr = df_pandas.corr()\n",
    "f,ax = plt.subplots(figsize = (10, 10))\n",
    "sns.heatmap(corr, annot = True, linewidths = .5, fmt = '.1f', ax = ax)"
   ]
  },
  {
   "cell_type": "markdown",
   "metadata": {},
   "source": [
    "Idealmente queremos alta correlação entre as variáveis de entrada e a variável de saída e baixa correlação entre as variáveis de entrada!"
   ]
  },
  {
   "cell_type": "code",
   "execution_count": 165,
   "metadata": {
    "colab": {
     "base_uri": "https://localhost:8080/",
     "height": 354
    },
    "id": "MyZiZ1TPFtwB",
    "outputId": "9a1813d5-8c59-4dbf-fe5d-72004b8228ef"
   },
   "outputs": [
    {
     "data": {
      "text/plain": [
       "<Figure size 864x360 with 0 Axes>"
      ]
     },
     "metadata": {},
     "output_type": "display_data"
    },
    {
     "data": {
      "image/png": "[encoded data removed]",
      "text/plain": [
       "<Figure size 432x288 with 1 Axes>"
      ]
     },
     "metadata": {},
     "output_type": "display_data"
    }
   ],
   "source": [
    "# Scatter Plot Volume Bitcoin x Volume Moeda\n",
    "plt.figure(figsize = (12,5))\n",
    "sns.set(style = 'dark')\n",
    "df_pandas.plot(kind = 'scatter', x = 'VolBTC', y = 'VolCurrency')\n",
    "plt.xlabel('Volume Bitcoin')            \n",
    "plt.ylabel('Volume Moeda')\n",
    "plt.title('Scatter Plot Volume Bitcoin x Volume Moeda') \n",
    "plt.show()"
   ]
  },
  {
   "cell_type": "code",
   "execution_count": 166,
   "metadata": {
    "colab": {
     "base_uri": "https://localhost:8080/",
     "height": 334
    },
    "id": "05VzSva7F2Fi",
    "outputId": "9d7f82da-2bfe-4eca-9477-549a722ba718"
   },
   "outputs": [
    {
     "data": {
      "image/png": "[encoded data removed]",
      "text/plain": [
       "<Figure size 1152x360 with 1 Axes>"
      ]
     },
     "metadata": {},
     "output_type": "display_data"
    }
   ],
   "source": [
    "# Line Plot Cotação Open x High \n",
    "plt.figure(figsize = (16,5))\n",
    "df_pandas.Open.plot(kind = 'line', \n",
    "                    color = 'r', \n",
    "                    label = 'Open', \n",
    "                    alpha = 0.5, \n",
    "                    linewidth = 5, \n",
    "                    grid = True, \n",
    "                    linestyle = ':')\n",
    "df_pandas.High.plot(color = 'g', \n",
    "                    label = 'High', \n",
    "                    linewidth = 1, \n",
    "                    alpha = 0.5, \n",
    "                    grid = True, \n",
    "                    linestyle = '-.')\n",
    "plt.legend(loc = 'upper left') \n",
    "plt.xlabel('Tempo')\n",
    "plt.ylabel('Cotação')\n",
    "plt.title('Line Plot Cotação Open x High ')\n",
    "plt.show()"
   ]
  },
  {
   "cell_type": "code",
   "execution_count": 167,
   "metadata": {
    "colab": {
     "base_uri": "https://localhost:8080/",
     "height": 285
    },
    "id": "JpvxQrWvGAeG",
    "outputId": "baf663e4-f16a-4c53-89eb-fc54d066fd1d"
   },
   "outputs": [
    {
     "data": {
      "text/plain": [
       "<AxesSubplot:ylabel='Frequency'>"
      ]
     },
     "execution_count": 167,
     "metadata": {},
     "output_type": "execute_result"
    },
    {
     "data": {
      "image/png": "[encoded data removed]",
      "text/plain": [
       "<Figure size 432x288 with 1 Axes>"
      ]
     },
     "metadata": {},
     "output_type": "display_data"
    }
   ],
   "source": [
    "# Histograma da cotação de abertura\n",
    "df_pandas.Open.plot(kind = 'hist', bins = 50)"
   ]
  },
  {
   "cell_type": "code",
   "execution_count": 168,
   "metadata": {
    "colab": {
     "base_uri": "https://localhost:8080/",
     "height": 316
    },
    "id": "ngLiJaa2GGdt",
    "outputId": "80f1d27e-2556-44cc-bac1-d2fa2ef06306"
   },
   "outputs": [
    {
     "data": {
      "image/png": "[encoded data removed]",
      "text/plain": [
       "<Figure size 432x288 with 1 Axes>"
      ]
     },
     "metadata": {},
     "output_type": "display_data"
    }
   ],
   "source": [
    "# Plot do valor ponderado da cotação (variável alvo) por hora\n",
    "plt.plot(hour, weighted_price , 'g*')\n",
    "plt.xlabel('Hora')            \n",
    "plt.ylabel('Valor Ponderado da Cotação')\n",
    "plt.title('Valor Ponderado da Cotação Por Hora') \n",
    "plt.show()"
   ]
  },
  {
   "cell_type": "code",
   "execution_count": 169,
   "metadata": {
    "colab": {
     "base_uri": "https://localhost:8080/",
     "height": 317
    },
    "id": "HxzKBxLWGSuX",
    "outputId": "180a771c-ee05-49ff-ca69-a79b1e879b3b"
   },
   "outputs": [
    {
     "data": {
      "image/png": "[encoded data removed]",
      "text/plain": [
       "<Figure size 432x288 with 1 Axes>"
      ]
     },
     "metadata": {},
     "output_type": "display_data"
    }
   ],
   "source": [
    "# Plot do valor ponderado da cotação por dia da semana\n",
    "plt.plot(date_of_week, weighted_price, 'b*')\n",
    "plt.xlabel('Dia da Semana')            \n",
    "plt.ylabel('Valor Ponderado da Cotação')\n",
    "plt.title('Valor Ponderado da Cotação Por Dia da Semana') \n",
    "plt.show()"
   ]
  },
  {
   "cell_type": "code",
   "execution_count": 170,
   "metadata": {
    "colab": {
     "base_uri": "https://localhost:8080/",
     "height": 316
    },
    "id": "WBeCmHNxGaLQ",
    "outputId": "979b0dc9-0817-495a-8552-25486d98f58d"
   },
   "outputs": [
    {
     "data": {
      "image/png": "[encoded data removed]",
      "text/plain": [
       "<Figure size 432x288 with 1 Axes>"
      ]
     },
     "metadata": {},
     "output_type": "display_data"
    }
   ],
   "source": [
    "# Plot do VolBTC por hora\n",
    "plt.plot(hour, volume_BTC, 'r*')\n",
    "plt.xlabel('Hora')            \n",
    "plt.ylabel('VolBTC')\n",
    "plt.title('Volume Negociado de Bitcoin Por Hora') \n",
    "plt.show()"
   ]
  },
  {
   "cell_type": "code",
   "execution_count": 171,
   "metadata": {
    "colab": {
     "base_uri": "https://localhost:8080/",
     "height": 317
    },
    "id": "P0eF5351Gj-p",
    "outputId": "f5de0ac2-e6ea-4c2a-a794-3bb5bb666974"
   },
   "outputs": [
    {
     "data": {
      "image/png": "[encoded data removed]",
      "text/plain": [
       "<Figure size 432x288 with 1 Axes>"
      ]
     },
     "metadata": {},
     "output_type": "display_data"
    }
   ],
   "source": [
    "# Plot de VolBTC por dia da semana\n",
    "plt.plot(date_of_week, volume_BTC, 'yo')\n",
    "plt.xlabel('Dia da Semana')            \n",
    "plt.ylabel('VolBTC')\n",
    "plt.title('Volume Negociado de Bitcoin Por Dia da Semana') \n",
    "plt.show()"
   ]
  },
  {
   "cell_type": "code",
   "execution_count": 172,
   "metadata": {
    "colab": {
     "base_uri": "https://localhost:8080/",
     "height": 316
    },
    "id": "g5wgxlbRGt-_",
    "outputId": "430abea4-dff7-4d8c-a160-b11a73d7706d"
   },
   "outputs": [
    {
     "data": {
      "image/png": "[encoded data removed]",
      "text/plain": [
       "<Figure size 432x288 with 1 Axes>"
      ]
     },
     "metadata": {},
     "output_type": "display_data"
    }
   ],
   "source": [
    "# Plot do valor ponderado da cotação por ano\n",
    "plt.plot(year, weighted_price , 'm^')\n",
    "plt.xlabel('Ano')            \n",
    "plt.ylabel('Valor Ponderado da Cotação')\n",
    "plt.title('Valor Ponderado da Cotação Por Ano') \n",
    "plt.show()"
   ]
  },
  {
   "cell_type": "code",
   "execution_count": 173,
   "metadata": {
    "colab": {
     "base_uri": "https://localhost:8080/",
     "height": 316
    },
    "id": "erWh8_FdG2zE",
    "outputId": "d824beba-b50d-4193-8eaf-7f92e8052163"
   },
   "outputs": [
    {
     "data": {
      "image/png": "[encoded data removed]",
      "text/plain": [
       "<Figure size 432x288 with 1 Axes>"
      ]
     },
     "metadata": {},
     "output_type": "display_data"
    }
   ],
   "source": [
    "# Plot do Volume por ano\n",
    "plt.plot(year, volume_BTC , 'kD')\n",
    "plt.xlabel('Ano')            \n",
    "plt.ylabel('volume BTC')\n",
    "plt.title('Volume de BTC Negociado Por Ano') \n",
    "plt.show()"
   ]
  },
  {
   "cell_type": "markdown",
   "metadata": {
    "id": "dRo5ze0IHEKj"
   },
   "source": [
    "## Engenharia de Atributos com PySpark"
   ]
  },
  {
   "cell_type": "code",
   "execution_count": 174,
   "metadata": {},
   "outputs": [
    {
     "name": "stdout",
     "output_type": "stream",
     "text": [
      "root\n",
      " |-- Timestamp: integer (nullable = true)\n",
      " |-- Open: double (nullable = true)\n",
      " |-- High: double (nullable = true)\n",
      " |-- Low: double (nullable = true)\n",
      " |-- Close: double (nullable = true)\n",
      " |-- VolBTC: double (nullable = true)\n",
      " |-- VolCurrency: double (nullable = true)\n",
      " |-- Weighted_Price: double (nullable = true)\n",
      " |-- dateTime: string (nullable = true)\n",
      "\n"
     ]
    }
   ],
   "source": [
    "df_bitcoin.printSchema()"
   ]
  },
  {
   "cell_type": "code",
   "execution_count": 175,
   "metadata": {},
   "outputs": [],
   "source": [
    "# Prepara o vetor de atributos\n",
    "assembler = VectorAssembler(inputCols = ['Open', 'VolBTC', 'VolCurrency'], \n",
    "                            outputCol = \"features\")"
   ]
  },
  {
   "cell_type": "code",
   "execution_count": 176,
   "metadata": {},
   "outputs": [],
   "source": [
    "# Cria o dataframe do vetor de atributos\n",
    "df_assembled = assembler.transform(df_bitcoin)"
   ]
  },
  {
   "cell_type": "code",
   "execution_count": 177,
   "metadata": {
    "colab": {
     "base_uri": "https://localhost:8080/"
    },
    "id": "StWTbF0qG9PO",
    "outputId": "d7a9d528-32ae-4d24-dcb3-95203e75e65f"
   },
   "outputs": [
    {
     "name": "stdout",
     "output_type": "stream",
     "text": [
      "+----------+----+----+----+-----+-----------+------------+--------------+-------------------+------------------------------+\n",
      "|Timestamp |Open|High|Low |Close|VolBTC     |VolCurrency |Weighted_Price|dateTime           |features                      |\n",
      "+----------+----+----+----+-----+-----------+------------+--------------+-------------------+------------------------------+\n",
      "|1325317920|4.39|4.39|4.39|4.39 |0.45558087 |2.0000000193|4.39          |2011-12-31 04:52:00|[4.39,0.45558087,2.0000000193]|\n",
      "|1325346600|4.39|4.39|4.39|4.39 |48.0       |210.72      |4.39          |2011-12-31 12:50:00|[4.39,48.0,210.72]            |\n",
      "|1325350740|4.5 |4.57|4.5 |4.57 |37.86229723|171.38033753|4.5264114983  |2011-12-31 13:59:00|[4.5,37.86229723,171.38033753]|\n",
      "|1325350800|4.58|4.58|4.58|4.58 |9.0        |41.22       |4.58          |2011-12-31 14:00:00|[4.58,9.0,41.22]              |\n",
      "|1325391360|4.58|4.58|4.58|4.58 |1.502      |6.87916     |4.58          |2012-01-01 01:16:00|[4.58,1.502,6.87916]          |\n",
      "|1325431680|4.84|4.84|4.84|4.84 |10.0       |48.4        |4.84          |2012-01-01 12:28:00|[4.84,10.0,48.4]              |\n",
      "|1325457900|5.0 |5.0 |5.0 |5.0  |10.1       |50.5        |5.0           |2012-01-01 19:45:00|[5.0,10.1,50.5]               |\n",
      "|1325534640|5.0 |5.0 |5.0 |5.0  |19.048     |95.24       |5.0           |2012-01-02 17:04:00|[5.0,19.048,95.24]            |\n",
      "|1325591100|5.32|5.32|5.32|5.32 |2.41917293 |12.869999988|5.32          |2012-01-03 08:45:00|[5.32,2.41917293,12.869999988]|\n",
      "|1325600520|5.14|5.14|5.14|5.14 |0.68       |3.4952      |5.14          |2012-01-03 11:22:00|[5.14,0.68,3.4952]            |\n",
      "+----------+----+----+----+-----+-----------+------------+--------------+-------------------+------------------------------+\n",
      "only showing top 10 rows\n",
      "\n"
     ]
    }
   ],
   "source": [
    "# Visualiza os dados\n",
    "df_assembled.show(10, truncate = False)"
   ]
  },
  {
   "cell_type": "markdown",
   "metadata": {
    "id": "nm_lbag4Q2z0"
   },
   "source": [
    "## Normalização"
   ]
  },
  {
   "cell_type": "code",
   "execution_count": 178,
   "metadata": {
    "id": "iu3u0U77RD4e"
   },
   "outputs": [],
   "source": [
    "# Divisão em dados de treino e teste\n",
    "dados_treino, dados_teste = df_assembled.randomSplit([.7,.3], seed = rnd_seed)"
   ]
  },
  {
   "cell_type": "code",
   "execution_count": 179,
   "metadata": {},
   "outputs": [
    {
     "data": {
      "text/plain": [
       "pyspark.sql.dataframe.DataFrame"
      ]
     },
     "execution_count": 179,
     "metadata": {},
     "output_type": "execute_result"
    }
   ],
   "source": [
    "type(dados_treino)"
   ]
  },
  {
   "cell_type": "code",
   "execution_count": 180,
   "metadata": {},
   "outputs": [],
   "source": [
    "# Cria o scaler\n",
    "scaler = MinMaxScaler(inputCol = \"features\", outputCol = \"scaled_features\")"
   ]
  },
  {
   "cell_type": "code",
   "execution_count": 181,
   "metadata": {},
   "outputs": [
    {
     "name": "stderr",
     "output_type": "stream",
     "text": [
      "                                                                                \r"
     ]
    }
   ],
   "source": [
    "# Fit nos dados de treino\n",
    "scalerModel = scaler.fit(dados_treino)"
   ]
  },
  {
   "cell_type": "code",
   "execution_count": 182,
   "metadata": {},
   "outputs": [],
   "source": [
    "# Fit e transform nos dados de treino\n",
    "dados_treino_scaled = scalerModel.transform(dados_treino)"
   ]
  },
  {
   "cell_type": "code",
   "execution_count": 183,
   "metadata": {},
   "outputs": [],
   "source": [
    "# Transform nos dados de teste\n",
    "dados_teste_scaled = scalerModel.transform(dados_teste)"
   ]
  },
  {
   "cell_type": "code",
   "execution_count": 184,
   "metadata": {},
   "outputs": [
    {
     "name": "stderr",
     "output_type": "stream",
     "text": [
      "\r",
      "[Stage 21:>                                                         (0 + 1) / 1]\r"
     ]
    },
    {
     "name": "stdout",
     "output_type": "stream",
     "text": [
      "+-------------------------------+-------------------------------------------------------------------+\n",
      "|features                       |scaled_features                                                    |\n",
      "+-------------------------------+-------------------------------------------------------------------+\n",
      "|[4.39,48.0,210.72]             |[9.553145931914242E-6,0.008199728766573702,1.51589789206087E-5]    |\n",
      "|[4.5,37.86229723,171.38033753] |[1.1334240936169445E-5,0.006467928495112392,1.2328924278777876E-5] |\n",
      "|[4.58,9.0,41.22]               |[1.2629582757445955E-5,0.001537449143732569,2.9653241795154263E-6] |\n",
      "|[4.84,10.0,48.4]               |[1.68394436765946E-5,0.001708276826369521,3.4818459555688167E-6]   |\n",
      "|[5.0,10.1,50.5]                |[1.9430127319147618E-5,0.0017253595946332162,3.63291778421953E-6]  |\n",
      "|[5.14,0.68,3.4952]             |[2.16969755063815E-5,1.1616282419312745E-4,2.5144107404760596E-7]  |\n",
      "|[5.26,29.31939163,154.21999997]|[2.3639988238296265E-5,0.00500856372847815,1.1094427338086107E-5]  |\n",
      "|[5.14,0.02,0.1028]             |[2.16969755063815E-5,3.4165536527390422E-6,7.3953257072825285E-9]  |\n",
      "|[5.29,11.0,58.19]              |[2.4125741421274957E-5,0.0018791045090064732,4.1861284329452365E-6]|\n",
      "|[5.29,4.01081466,21.217209551] |[2.4125741421274957E-5,6.851581738541151E-4,1.526344117016641E-6]  |\n",
      "+-------------------------------+-------------------------------------------------------------------+\n",
      "only showing top 10 rows\n",
      "\n"
     ]
    },
    {
     "name": "stderr",
     "output_type": "stream",
     "text": [
      "\r",
      "                                                                                \r"
     ]
    }
   ],
   "source": [
    "dados_treino_scaled.select(\"features\", \"scaled_features\").show(10, truncate = False)"
   ]
  },
  {
   "cell_type": "code",
   "execution_count": 185,
   "metadata": {
    "colab": {
     "base_uri": "https://localhost:8080/"
    },
    "id": "fNPuY44AQ096",
    "outputId": "4d210d17-5010-4a0f-d062-753aa88f9af3"
   },
   "outputs": [
    {
     "data": {
      "text/plain": [
       "['Timestamp',\n",
       " 'Open',\n",
       " 'High',\n",
       " 'Low',\n",
       " 'Close',\n",
       " 'VolBTC',\n",
       " 'VolCurrency',\n",
       " 'Weighted_Price',\n",
       " 'dateTime',\n",
       " 'features',\n",
       " 'scaled_features']"
      ]
     },
     "execution_count": 185,
     "metadata": {},
     "output_type": "execute_result"
    }
   ],
   "source": [
    "dados_treino_scaled.columns"
   ]
  },
  {
   "cell_type": "markdown",
   "metadata": {},
   "source": [
    "## Machine Learning"
   ]
  },
  {
   "cell_type": "markdown",
   "metadata": {},
   "source": [
    "> Versão 1 do Modelo (Benchmark)"
   ]
  },
  {
   "cell_type": "code",
   "execution_count": 186,
   "metadata": {
    "id": "YA1ZyOJ3RGVJ"
   },
   "outputs": [],
   "source": [
    "# Cria o modelo de regressão\n",
    "modelo_lr_v1 = (LinearRegression(featuresCol = 'scaled_features', \n",
    "                                 labelCol = \"Weighted_Price\", \n",
    "                                 predictionCol = 'Predicted_price', \n",
    "                                 maxIter = 100, \n",
    "                                 regParam = 0.3, \n",
    "                                 elasticNetParam = 0.8, \n",
    "                                 standardization = False))"
   ]
  },
  {
   "cell_type": "code",
   "execution_count": 187,
   "metadata": {
    "id": "yPRnllMPRMRv"
   },
   "outputs": [
    {
     "name": "stderr",
     "output_type": "stream",
     "text": [
      "                                                                                \r"
     ]
    }
   ],
   "source": [
    "# Treina o modelo\n",
    "modelo_v1 = modelo_lr_v1.fit(dados_treino_scaled)"
   ]
  },
  {
   "cell_type": "markdown",
   "metadata": {},
   "source": [
    "Se tiver mensagem de WARN, isso indica que o Spark não encontrou a biblioteca de otimização de álgebra linear (que precisa ser instalada, mas não é requerida para este projeto). Mais detalhes aqui:\n",
    "\n",
    "https://spark.apache.org/docs/latest/ml-linalg-guide.html"
   ]
  },
  {
   "cell_type": "code",
   "execution_count": 188,
   "metadata": {},
   "outputs": [],
   "source": [
    "# Salva o modelo em disco\n",
    "modelo_v1.write().overwrite().save(\"modelos/modelo_v1\")"
   ]
  },
  {
   "cell_type": "markdown",
   "metadata": {},
   "source": [
    "## Avaliação do Modelo"
   ]
  },
  {
   "cell_type": "code",
   "execution_count": 189,
   "metadata": {},
   "outputs": [],
   "source": [
    "# Previsões com dados de teste\n",
    "previsoes_v1 = modelo_v1.transform(dados_teste_scaled)"
   ]
  },
  {
   "cell_type": "code",
   "execution_count": 190,
   "metadata": {
    "colab": {
     "base_uri": "https://localhost:8080/"
    },
    "id": "1kbl3LPYQs1F",
    "outputId": "dc44635b-4eff-4d47-b293-d771c894d401",
    "scrolled": true
   },
   "outputs": [
    {
     "name": "stderr",
     "output_type": "stream",
     "text": [
      "\r",
      "[Stage 30:>                                                         (0 + 1) / 1]\r"
     ]
    },
    {
     "name": "stdout",
     "output_type": "stream",
     "text": [
      "+------------------+--------------+\n",
      "|   Predicted_price|Weighted_Price|\n",
      "+------------------+--------------+\n",
      "|7.4579394062081095|          4.39|\n",
      "| 7.647839519803208|          4.58|\n",
      "| 8.067618718276584|           5.0|\n",
      "| 8.387450488542013|          5.32|\n",
      "|  8.35746626007963|          5.29|\n",
      "|  8.35746626007963|          5.29|\n",
      "| 8.257518831871684|          5.19|\n",
      "| 8.427429459825191|  5.3604618117|\n",
      "| 8.817224429836184|   5.777027027|\n",
      "| 9.067093000356051|           6.0|\n",
      "+------------------+--------------+\n",
      "only showing top 10 rows\n",
      "\n"
     ]
    },
    {
     "name": "stderr",
     "output_type": "stream",
     "text": [
      "\r",
      "                                                                                \r"
     ]
    }
   ],
   "source": [
    "# Seleciona as colunas\n",
    "pred_data_v1 = previsoes_v1.select(\"Predicted_price\", \"Weighted_Price\").show(10)"
   ]
  },
  {
   "cell_type": "code",
   "execution_count": 191,
   "metadata": {
    "colab": {
     "base_uri": "https://localhost:8080/"
    },
    "id": "CyegPQDYUgpS",
    "outputId": "e975ba51-f7d4-4a0e-ebc2-5dcf19bfdaaf"
   },
   "outputs": [
    {
     "name": "stdout",
     "output_type": "stream",
     "text": [
      "Mean Absolute Error (MAE) nos dados de teste: 5.024379502492914\n"
     ]
    }
   ],
   "source": [
    "# Mean Absolute Error\n",
    "print(\"Mean Absolute Error (MAE) nos dados de teste: {0}\".format(modelo_v1.summary.meanAbsoluteError))"
   ]
  },
  {
   "cell_type": "code",
   "execution_count": 192,
   "metadata": {},
   "outputs": [],
   "source": [
    "# Cria um avaliador para o modelo de regressão\n",
    "evaluator = RegressionEvaluator(labelCol = \"Weighted_Price\", \n",
    "                                predictionCol = \"Predicted_price\", \n",
    "                                metricName = \"rmse\")"
   ]
  },
  {
   "cell_type": "code",
   "execution_count": 193,
   "metadata": {
    "colab": {
     "base_uri": "https://localhost:8080/"
    },
    "id": "U8P-5aiTRlEQ",
    "outputId": "816db6a9-fefc-4e24-e18e-db526d2877a9"
   },
   "outputs": [
    {
     "name": "stderr",
     "output_type": "stream",
     "text": [
      "[Stage 31:======================>                                  (4 + 6) / 10]\r"
     ]
    },
    {
     "name": "stdout",
     "output_type": "stream",
     "text": [
      "Root Mean Squared Error (RMSE) nos dados de teste = 11.3093\n"
     ]
    },
    {
     "name": "stderr",
     "output_type": "stream",
     "text": [
      "\r",
      "[Stage 31:=============================================>           (8 + 2) / 10]\r",
      "\r",
      "                                                                                \r"
     ]
    }
   ],
   "source": [
    "# Aplica o avaliador\n",
    "rmse_v1 = evaluator.evaluate(previsoes_v1)\n",
    "print(\"Root Mean Squared Error (RMSE) nos dados de teste = %g\" % rmse_v1)"
   ]
  },
  {
   "cell_type": "code",
   "execution_count": 194,
   "metadata": {},
   "outputs": [
    {
     "name": "stderr",
     "output_type": "stream",
     "text": [
      "                                                                                \r"
     ]
    }
   ],
   "source": [
    "# Extrai as previsões\n",
    "pred_results_v1 = modelo_v1.evaluate(dados_teste_scaled)"
   ]
  },
  {
   "cell_type": "code",
   "execution_count": 195,
   "metadata": {},
   "outputs": [
    {
     "name": "stderr",
     "output_type": "stream",
     "text": [
      "                                                                                \r"
     ]
    }
   ],
   "source": [
    "# Valores reais de Y sendo convertidos para o formato do Pandas\n",
    "Y = pred_results_v1.predictions.select('Weighted_Price').toPandas()"
   ]
  },
  {
   "cell_type": "code",
   "execution_count": 196,
   "metadata": {},
   "outputs": [
    {
     "name": "stderr",
     "output_type": "stream",
     "text": [
      "                                                                                \r"
     ]
    }
   ],
   "source": [
    "# Valores previstos de Y sendo convertidos para o formato do Pandas\n",
    "_Y = pred_results_v1.predictions.select(\"Predicted_price\").toPandas()"
   ]
  },
  {
   "cell_type": "code",
   "execution_count": 197,
   "metadata": {
    "colab": {
     "base_uri": "https://localhost:8080/",
     "height": 375
    },
    "id": "OpQ2cQD7S4fy",
    "outputId": "98d34558-a74c-4017-8a94-df98eeca6033"
   },
   "outputs": [
    {
     "data": {
      "text/plain": [
       "<seaborn.axisgrid.FacetGrid at 0x140111720>"
      ]
     },
     "execution_count": 197,
     "metadata": {},
     "output_type": "execute_result"
    },
    {
     "data": {
      "image/png": "[encoded data removed]",
      "text/plain": [
       "<Figure size 477.35x360 with 1 Axes>"
      ]
     },
     "metadata": {},
     "output_type": "display_data"
    },
    {
     "data": {
      "image/png": "[encoded data removed]",
      "text/plain": [
       "<Figure size 476.475x360 with 1 Axes>"
      ]
     },
     "metadata": {},
     "output_type": "display_data"
    }
   ],
   "source": [
    "# Distribuição dos valores reais x valores previstos\n",
    "sns.set_style(\"dark\")\n",
    "ax1 = sns.displot(Y, color = \"r\", label = \"Valores Reais\")\n",
    "sns.displot(_Y, color = \"b\", label = \"Valores Previstos\")"
   ]
  },
  {
   "cell_type": "code",
   "execution_count": 198,
   "metadata": {
    "colab": {
     "base_uri": "https://localhost:8080/",
     "height": 498
    },
    "id": "jLEikiKxUEvt",
    "outputId": "b1056043-ba8e-4767-84a6-3afb76cd61d7"
   },
   "outputs": [
    {
     "data": {
      "text/plain": [
       "<matplotlib.legend.Legend at 0x2952832e0>"
      ]
     },
     "execution_count": 198,
     "metadata": {},
     "output_type": "execute_result"
    },
    {
     "data": {
      "image/png": "[encoded data removed]",
      "text/plain": [
       "<Figure size 864x504 with 1 Axes>"
      ]
     },
     "metadata": {},
     "output_type": "display_data"
    }
   ],
   "source": [
    "# Plot dos valores reais x valores previstos\n",
    "plt.figure(figsize = (12,7))\n",
    "plt.plot(Y, color = 'green', marker = '*', linestyle = 'dashed', label = 'Predicted Price')\n",
    "plt.plot(_Y, color = 'red', label = 'Weighted Price')\n",
    "plt.title('Resultado do Modelo')\n",
    "plt.xlabel('Valor Real')\n",
    "plt.ylabel('Valor Previsto')\n",
    "plt.legend()"
   ]
  },
  {
   "cell_type": "markdown",
   "metadata": {},
   "source": [
    "> Versão 2 do Modelo (Otimização de Hiperparâmetros)"
   ]
  },
  {
   "cell_type": "code",
   "execution_count": 199,
   "metadata": {},
   "outputs": [],
   "source": [
    "# Cria o modelo\n",
    "modelo_lr_v2 = (LinearRegression(featuresCol = 'scaled_features', \n",
    "                                 labelCol = \"Weighted_Price\", \n",
    "                                 predictionCol = 'Predicted_price'))"
   ]
  },
  {
   "cell_type": "code",
   "execution_count": 200,
   "metadata": {},
   "outputs": [],
   "source": [
    "# Cria um grid para otimização de hiperparâmetros\n",
    "grid = ParamGridBuilder().addGrid(modelo_lr_v2.maxIter, [50, 100]).build()"
   ]
  },
  {
   "cell_type": "code",
   "execution_count": 201,
   "metadata": {},
   "outputs": [],
   "source": [
    "# Cria o avaliador (será usado na validação cruzada)\n",
    "evaluator = RegressionEvaluator(labelCol = \"Weighted_Price\", \n",
    "                                predictionCol = \"Predicted_price\", \n",
    "                                metricName = \"rmse\")"
   ]
  },
  {
   "cell_type": "code",
   "execution_count": 202,
   "metadata": {},
   "outputs": [],
   "source": [
    "# Cria o CrossValidator\n",
    "cv = CrossValidator(estimator = modelo_lr_v2, estimatorParamMaps = grid, evaluator = evaluator, parallelism = 2)"
   ]
  },
  {
   "cell_type": "code",
   "execution_count": null,
   "metadata": {},
   "outputs": [
    {
     "name": "stdout",
     "output_type": "stream",
     "text": [
      "22/08/12 23:26:16 WARN Instrumentation: [c74b9bd6] regParam is zero, which might cause numerical instability and overfitting.\n",
      "22/08/12 23:26:16 WARN Instrumentation: [065af08d] regParam is zero, which might cause numerical instability and overfitting.\n"
     ]
    },
    {
     "name": "stderr",
     "output_type": "stream",
     "text": [
      "\r",
      "[Stage 37:>               (0 + 10) / 10][Stage 39:>                (0 + 0) / 10]\r"
     ]
    },
    {
     "name": "stdout",
     "output_type": "stream",
     "text": [
      "22/08/12 23:26:22 WARN MemoryStore: Not enough space to cache rdd_152_5 in memory! (computed 41.7 MiB so far)\n",
      "22/08/12 23:26:22 WARN BlockManager: Persisting block rdd_152_5 to disk instead.\n"
     ]
    },
    {
     "name": "stderr",
     "output_type": "stream",
     "text": [
      "                                                                                \r"
     ]
    },
    {
     "name": "stdout",
     "output_type": "stream",
     "text": [
      "22/08/12 23:27:04 WARN Instrumentation: [f26a2d01] regParam is zero, which might cause numerical instability and overfitting.\n",
      "22/08/12 23:27:04 WARN Instrumentation: [1a935160] regParam is zero, which might cause numerical instability and overfitting.\n"
     ]
    },
    {
     "name": "stderr",
     "output_type": "stream",
     "text": [
      "\r",
      "[Stage 49:>               (0 + 10) / 10][Stage 51:>                (0 + 0) / 10]\r"
     ]
    },
    {
     "name": "stdout",
     "output_type": "stream",
     "text": [
      "22/08/12 23:27:10 WARN MemoryStore: Not enough space to cache rdd_250_6 in memory! (computed 41.7 MiB so far)\n",
      "22/08/12 23:27:10 WARN MemoryStore: Not enough space to cache rdd_250_4 in memory! (computed 41.8 MiB so far)\n",
      "22/08/12 23:27:11 WARN BlockManager: Persisting block rdd_250_4 to disk instead.\n",
      "22/08/12 23:27:11 WARN BlockManager: Persisting block rdd_250_6 to disk instead.\n",
      "22/08/12 23:27:13 WARN MemoryStore: Not enough space to cache rdd_250_1 in memory! (computed 41.8 MiB so far)\n",
      "22/08/12 23:27:13 WARN BlockManager: Persisting block rdd_250_1 to disk instead.\n"
     ]
    },
    {
     "name": "stderr",
     "output_type": "stream",
     "text": [
      "                                                                                \r"
     ]
    },
    {
     "name": "stdout",
     "output_type": "stream",
     "text": [
      "22/08/12 23:27:52 WARN Instrumentation: [4aed429e] regParam is zero, which might cause numerical instability and overfitting.\n",
      "22/08/12 23:27:52 WARN Instrumentation: [73c10e17] regParam is zero, which might cause numerical instability and overfitting.\n"
     ]
    },
    {
     "name": "stderr",
     "output_type": "stream",
     "text": [
      "\r",
      "[Stage 61:>               (0 + 10) / 10][Stage 63:>                (0 + 0) / 10]\r"
     ]
    },
    {
     "name": "stdout",
     "output_type": "stream",
     "text": [
      "22/08/12 23:27:59 WARN MemoryStore: Not enough space to cache rdd_348_5 in memory! (computed 41.7 MiB so far)\n",
      "22/08/12 23:27:59 WARN MemoryStore: Not enough space to cache rdd_348_2 in memory! (computed 41.8 MiB so far)\n",
      "22/08/12 23:27:59 WARN MemoryStore: Not enough space to cache rdd_348_3 in memory! (computed 41.8 MiB so far)\n",
      "22/08/12 23:27:59 WARN BlockManager: Persisting block rdd_348_3 to disk instead.\n",
      "22/08/12 23:27:59 WARN BlockManager: Persisting block rdd_348_5 to disk instead.\n",
      "22/08/12 23:27:59 WARN BlockManager: Persisting block rdd_348_2 to disk instead.\n",
      "22/08/12 23:28:00 WARN MemoryStore: Not enough space to cache rdd_348_5 in memory! (computed 41.7 MiB so far)\n"
     ]
    },
    {
     "name": "stderr",
     "output_type": "stream",
     "text": [
      "                                                                                \r"
     ]
    }
   ],
   "source": [
    "# Treina o CrossValidator\n",
    "cvModel = cv.fit(dados_treino_scaled)"
   ]
  },
  {
   "cell_type": "code",
   "execution_count": null,
   "metadata": {},
   "outputs": [],
   "source": [
    "# Extrai o melhor modelo do CrossValidator\n",
    "modelo_v2 = cvModel.bestModel"
   ]
  },
  {
   "cell_type": "code",
   "execution_count": null,
   "metadata": {},
   "outputs": [],
   "source": [
    "# Salva o modelo em disco\n",
    "modelo_v2.write().overwrite().save(\"modelos/modelo_v2\")"
   ]
  },
  {
   "cell_type": "markdown",
   "metadata": {},
   "source": [
    "## Avaliação do Modelo"
   ]
  },
  {
   "cell_type": "code",
   "execution_count": null,
   "metadata": {},
   "outputs": [],
   "source": [
    "# Previsões com dados de teste\n",
    "previsoes_v2 = modelo_v2.transform(dados_teste_scaled)"
   ]
  },
  {
   "cell_type": "code",
   "execution_count": null,
   "metadata": {},
   "outputs": [],
   "source": [
    "# Seleciona as colunas\n",
    "pred_data_v2 = previsoes_v2.select(\"Predicted_price\", \"Weighted_Price\").show(10)"
   ]
  },
  {
   "cell_type": "code",
   "execution_count": null,
   "metadata": {},
   "outputs": [],
   "source": [
    "# Mean Absolute Error\n",
    "print(\"MAE: {0}\".format(modelo_v2.summary.meanAbsoluteError))"
   ]
  },
  {
   "cell_type": "code",
   "execution_count": null,
   "metadata": {},
   "outputs": [],
   "source": [
    "evaluator = RegressionEvaluator(labelCol = \"Weighted_Price\", \n",
    "                                predictionCol = \"Predicted_price\", \n",
    "                                metricName = \"rmse\")"
   ]
  },
  {
   "cell_type": "code",
   "execution_count": null,
   "metadata": {},
   "outputs": [],
   "source": [
    "# Aplica o avaliador\n",
    "rmse_v2 = evaluator.evaluate(previsoes_v2)\n",
    "print(\"Root Mean Squared Error (RMSE) nos dados de teste = %g\" % rmse_v2)"
   ]
  },
  {
   "cell_type": "code",
   "execution_count": null,
   "metadata": {},
   "outputs": [],
   "source": [
    "# Plot dos valores reais x valores previstos\n",
    "\n",
    "# Extrai as previsões\n",
    "pred_results_v2 = modelo_v2.evaluate(dados_teste_scaled)\n",
    "\n",
    "# Valores reais de Y sendo convertidos para o formato do Pandas\n",
    "Y = pred_results_v2.predictions.select('Weighted_Price').toPandas()\n",
    "\n",
    "# Valores previstos de Y sendo convertidos para o formato do Pandas\n",
    "_Y = pred_results_v2.predictions.select(\"Predicted_price\").toPandas()\n",
    "\n",
    "# Plot\n",
    "sns.set_style(\"dark\")\n",
    "ax1 = sns.displot(Y, color = \"r\", label = \"Valores Reais\")\n",
    "sns.displot(_Y, color = \"b\", label = \"Valores Previstos\")"
   ]
  },
  {
   "cell_type": "code",
   "execution_count": null,
   "metadata": {},
   "outputs": [],
   "source": [
    "# Plot dos valores reais x valores previstos\n",
    "plt.figure(figsize = (12,7))\n",
    "plt.plot(Y, color = 'green', marker = '*', linestyle = 'dashed', label = 'Predicted Price')\n",
    "plt.plot(_Y, color = 'red', label = 'Weighted Price')\n",
    "plt.title('Resultado do Modelo')\n",
    "plt.xlabel('Valor Real')\n",
    "plt.ylabel('Valor Previsto')\n",
    "plt.legend()"
   ]
  },
  {
   "cell_type": "markdown",
   "metadata": {},
   "source": [
    "As mensagens de WARN no treinamento do modelo_v2 indicam que o modelo parece instável e talvez esteja com overfitting. Usaremos o modelo_v1."
   ]
  },
  {
   "cell_type": "markdown",
   "metadata": {},
   "source": [
    "## Previsões em Tempo Real"
   ]
  },
  {
   "cell_type": "code",
   "execution_count": null,
   "metadata": {},
   "outputs": [],
   "source": [
    "# Novos dados\n",
    "novos_dados = [[20546.29, 3422.57, 72403082.02], [21620.85, 3271.14, 71319207.5]]"
   ]
  },
  {
   "cell_type": "code",
   "execution_count": null,
   "metadata": {},
   "outputs": [],
   "source": [
    "# Prepara o dataframe do Pandas\n",
    "df_novos_dados = pd.DataFrame(novos_dados, columns = ['Open', 'VolBTC', 'VolCurrency'])"
   ]
  },
  {
   "cell_type": "code",
   "execution_count": null,
   "metadata": {},
   "outputs": [],
   "source": [
    "# Visualiza\n",
    "df_novos_dados"
   ]
  },
  {
   "cell_type": "code",
   "execution_count": null,
   "metadata": {},
   "outputs": [],
   "source": [
    "# Converte o dataframe do Pandas para dataframe do Spark\n",
    "df_novos_dados_spark = spark_session.createDataFrame(df_novos_dados) "
   ]
  },
  {
   "cell_type": "code",
   "execution_count": null,
   "metadata": {},
   "outputs": [],
   "source": [
    "# Schema\n",
    "df_novos_dados_spark.printSchema()"
   ]
  },
  {
   "cell_type": "code",
   "execution_count": null,
   "metadata": {},
   "outputs": [],
   "source": [
    "# Visualiza\n",
    "df_novos_dados_spark.show()"
   ]
  },
  {
   "cell_type": "code",
   "execution_count": null,
   "metadata": {},
   "outputs": [],
   "source": [
    "# Cria o dataframe do vetor de atributos\n",
    "df_assembled = assembler.transform(df_novos_dados_spark)"
   ]
  },
  {
   "cell_type": "code",
   "execution_count": null,
   "metadata": {},
   "outputs": [],
   "source": [
    "# Visualiza os dados\n",
    "df_assembled.show()"
   ]
  },
  {
   "cell_type": "code",
   "execution_count": null,
   "metadata": {},
   "outputs": [],
   "source": [
    "# Normaliza os dados\n",
    "df_assembled_scaled = scalerModel.transform(df_assembled)"
   ]
  },
  {
   "cell_type": "code",
   "execution_count": null,
   "metadata": {},
   "outputs": [],
   "source": [
    "# Previsões com os novos dados\n",
    "previsoes = modelo_v1.transform(df_assembled_scaled)"
   ]
  },
  {
   "cell_type": "code",
   "execution_count": null,
   "metadata": {},
   "outputs": [],
   "source": [
    "# Imprime as previsões\n",
    "pred_data = previsoes.select(\"Predicted_price\").show()"
   ]
  },
  {
   "cell_type": "code",
   "execution_count": null,
   "metadata": {
    "id": "wOR_mZjfUWW3"
   },
   "outputs": [],
   "source": [
    "# Encerra a sessão Spark\n",
    "spark_session.stop()"
   ]
  }
 ],
 "metadata": {
  "colab": {
   "name": "BitCoinTrend.ipynb",
   "provenance": []
  },
  "kernelspec": {
   "display_name": "Python 3 (ipykernel)",
   "language": "python",
   "name": "python3"
  },
  "language_info": {
   "codemirror_mode": {
    "name": "ipython",
    "version": 3
   },
   "file_extension": ".py",
   "mimetype": "text/x-python",
   "name": "python",
   "nbconvert_exporter": "python",
   "pygments_lexer": "ipython3",
   "version": "3.10.4"
  }
 },
 "nbformat": 4,
 "nbformat_minor": 1
}
